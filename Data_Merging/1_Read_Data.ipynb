{
  "nbformat": 4,
  "nbformat_minor": 0,
  "metadata": {
    "colab": {
      "name": "1.Read_Data.ipynb",
      "provenance": [],
      "collapsed_sections": [
        "YVvz0sIQTcob"
      ],
      "include_colab_link": true
    },
    "kernelspec": {
      "name": "python3",
      "display_name": "Python 3"
    },
    "language_info": {
      "name": "python"
    }
  },
  "cells": [
    {
      "cell_type": "markdown",
      "metadata": {
        "id": "view-in-github",
        "colab_type": "text"
      },
      "source": [
        "<a href=\"https://colab.research.google.com/github/chetan7116desai/TEAM_A_data606/blob/main/Data_Merging/1_Read_Data.ipynb\" target=\"_parent\"><img src=\"https://colab.research.google.com/assets/colab-badge.svg\" alt=\"Open In Colab\"/></a>"
      ]
    },
    {
      "cell_type": "markdown",
      "source": [
        "#**Vaccine Efficiency Prediction using machine learning techniques bold text**"
      ],
      "metadata": {
        "id": "ijBEdUv2SjVL"
      }
    },
    {
      "cell_type": "markdown",
      "source": [
        "\n",
        ">***Combine Data from 1990 to 2022***\n",
        "\n",
        "  This file contains the code to combine all the vaccine, symptoms and data files from 1990 to 2022 to single file.\n",
        "   \n",
        "\n",
        "1. df_vax contains all the combined csv files of vaccinations from the year 1990 to 2022\n",
        "2. df_symp contains all the combined csv files of symptoms from the year 1990 to 2022\n",
        "3. df_data contains all the combined csv files of data from the year 1990 to 2022\n",
        "\n"
      ],
      "metadata": {
        "id": "4n49zz9iUQtW"
      }
    },
    {
      "cell_type": "markdown",
      "source": [
        "\n",
        "\n",
        "\n",
        ">***Understanding VAERS data***\n",
        "\n",
        "\n",
        "\n",
        "1.   VAERS was formed by the FDA and the CDC to gather reports of vaccine-related adverse events. (From November 1, 1990 to the present)\n",
        "2.   VAERS is used to continuously monitor reports to see if any vaccination or vaccine lot has a greater rate of incidents than expected\n",
        "3. Approximately 85-90 percent of vaccination adverse event reports are for very modest occurrences like fevers or redness and edema at the injection site. The remaining reports (less than 15%) are about serious incidents including hospitalizations, life-threatening diseases, or fatalities\n",
        "4. When multiple reports of a silgle case or event are received, only the first report received is included in the publicly acessible dataset\n",
        "\n",
        "---\n",
        "\n",
        "\n",
        "\n"
      ],
      "metadata": {
        "id": "_z8bkUhCLGIt"
      }
    },
    {
      "cell_type": "markdown",
      "source": [
        "\n",
        "\n",
        "> ***Description of Data Files***\n",
        "\n",
        "\n",
        "Data sets files can be downloaded from [here](https://vaers.hhs.gov/data/datasets.html)\n",
        "\n",
        "Data Discription can be found [here](https://vaers.hhs.gov/docs/VAERSDataUseGuide_November2020.pdf)\n",
        "\n",
        "> ***There are three data files:***\n",
        "\n",
        "VAERSDATA.CSV\n",
        "\n",
        "VAERSVAX.CSV\n",
        "\n",
        "VAERSSYMPTOMS.CSV\n",
        "\n",
        "There are three data types:\n",
        "\n",
        "NUM = numeric data\n",
        "\n",
        "CHAR = text or \"character\" data\n",
        "\n",
        "DATE = date fields in mm/dd/yy format\n",
        "\n",
        "\n",
        "\n",
        "\n",
        "\n",
        "> ***VAERS Data Limitations***\n",
        "\n",
        "\n",
        "\n",
        "When analyzing VAERS data, keep in mind that no cause-and-effect relationship has been proven for any reported occurrence. VAERS receives reports of all possible links between vaccines and adverse events (possible side effects). As a result, VAERS collects information on any adverse event that occurs after immunization, whether it is coincidental or actually caused by the vaccine. A report of an adverse event to VAERS is not proof that the occurrence was caused by the vaccine.\n",
        "\n",
        "* VAERS is a passive reporting system, which means that reports of adverse events are not collected automatically and must be reported to VAERS. Anyone, including healthcare providers, patients, and family members, can voluntarily submit VAERS reports. The quality and completeness of reports varies. They frequently lack details and, on sometimes, may provide inaccurate information.\n",
        "\n",
        "* One of the major drawbacks of passive monitoring systems, such as VAERS, is \"underreporting.\" The phrase \"underreporting\" refers to the reality that only a tiny percentage of genuine adverse events are reported to VAERS. The extent of underreporting differs greatly. For example, many of the millions of immunizations given by injection each year induce pain, yet only a small percentage of these instances result in a VAERS report. Minor side effects of vaccines often include this type of soreness, as well as low fevers, as physicians and patients are aware. Serious and unexpected medical events, on the other hand, are more likely to be reported than minor ones, especially when they occur soon after immunization, even if they are unrelated to the vaccine.\n",
        "\n",
        "* A report to VAERS does not always imply that the indicated vaccine(s) were to blame for the adverse event. It merely validates that the alleged occurrence happened after the vaccine was administered. VAERS will accept the report without requiring confirmation that the occurrence was caused by the immunization. VAERS accepts all reports without determining if the vaccine was to blame."
      ],
      "metadata": {
        "id": "CMM1SL4lMoZ0"
      }
    },
    {
      "cell_type": "markdown",
      "source": [
        "## Importing Libraries"
      ],
      "metadata": {
        "id": "YVvz0sIQTcob"
      }
    },
    {
      "cell_type": "code",
      "source": [
        "# Connecting to shared drive\n",
        "from google.colab import drive\n",
        "drive.mount('/content/drive')"
      ],
      "metadata": {
        "id": "YIrEztAxLCsI",
        "colab": {
          "base_uri": "https://localhost:8080/"
        },
        "outputId": "e1cd4d7e-12d4-4061-bad5-1a1d28a46c47"
      },
      "execution_count": null,
      "outputs": [
        {
          "output_type": "stream",
          "name": "stdout",
          "text": [
            "Mounted at /content/drive\n"
          ]
        }
      ]
    },
    {
      "cell_type": "code",
      "source": [
        "# Importing Required Libraries\n",
        "import pandas as pd\n",
        "import seaborn as sns\n",
        "import matplotlib.pyplot as plt\n",
        "import plotly.graph_objects as go\n",
        "import warnings\n",
        "warnings.filterwarnings(action='ignore')\n",
        "import re\n",
        "import numpy as np"
      ],
      "metadata": {
        "id": "eEgJwzHIMBkZ"
      },
      "execution_count": null,
      "outputs": []
    },
    {
      "cell_type": "markdown",
      "source": [
        "## Data Reading"
      ],
      "metadata": {
        "id": "FsyF387RWNtK"
      }
    },
    {
      "cell_type": "code",
      "execution_count": null,
      "metadata": {
        "colab": {
          "base_uri": "https://localhost:8080/"
        },
        "id": "P7MM77E6T6Pw",
        "outputId": "3d1d022b-81a5-4908-c923-61a6ba965893"
      },
      "outputs": [
        {
          "output_type": "stream",
          "name": "stdout",
          "text": [
            "Mounted at /content/drive\n"
          ]
        }
      ],
      "source": [
        "from google.colab import drive\n",
        "drive.mount('/content/drive')"
      ]
    },
    {
      "cell_type": "code",
      "source": [
        "cd \"/content/drive/Shareddrives/Team A 606 Capstone Project/Dataset/AllVAERSDataCSVS\""
      ],
      "metadata": {
        "colab": {
          "base_uri": "https://localhost:8080/"
        },
        "id": "oIELuKZGUBnQ",
        "outputId": "ff595436-0396-4384-a037-7a07bea2e830"
      },
      "execution_count": null,
      "outputs": [
        {
          "output_type": "stream",
          "name": "stdout",
          "text": [
            "/content/drive/Shareddrives/Team A 606 Capstone Project/Dataset/AllVAERSDataCSVS\n"
          ]
        }
      ]
    },
    {
      "cell_type": "code",
      "source": [
        "ls \"/content/drive/Shareddrives/Team A 606 Capstone Project/Dataset/AllVAERSDataCSVS\""
      ],
      "metadata": {
        "colab": {
          "base_uri": "https://localhost:8080/"
        },
        "id": "GMt9rdpLUEsV",
        "outputId": "3472c5c0-16e0-4485-f824-758c2efe746e"
      },
      "execution_count": null,
      "outputs": [
        {
          "output_type": "stream",
          "name": "stdout",
          "text": [
            "1990VAERSDATA.csv      2002VAERSDATA.csv      2014VAERSDATA.csv\n",
            "1990VAERSSYMPTOMS.csv  2002VAERSSYMPTOMS.csv  2014VAERSSYMPTOMS.csv\n",
            "1990VAERSVAX.csv       2002VAERSVAX.csv       2014VAERSVAX.csv\n",
            "1991VAERSDATA.csv      2003VAERSDATA.csv      2015VAERSDATA.csv\n",
            "1991VAERSSYMPTOMS.csv  2003VAERSSYMPTOMS.csv  2015VAERSSYMPTOMS.csv\n",
            "1991VAERSVAX.csv       2003VAERSVAX.csv       2015VAERSVAX.csv\n",
            "1992VAERSDATA.csv      2004VAERSDATA.csv      2016VAERSDATA.csv\n",
            "1992VAERSSYMPTOMS.csv  2004VAERSSYMPTOMS.csv  2016VAERSSYMPTOMS.csv\n",
            "1992VAERSVAX.csv       2004VAERSVAX.csv       2016VAERSVAX.csv\n",
            "1993VAERSDATA.csv      2005VAERSDATA.csv      2017VAERSDATA.csv\n",
            "1993VAERSSYMPTOMS.csv  2005VAERSSYMPTOMS.csv  2017VAERSSYMPTOMS.csv\n",
            "1993VAERSVAX.csv       2005VAERSVAX.csv       2017VAERSVAX.csv\n",
            "1994VAERSDATA.csv      2006VAERSDATA.csv      2018VAERSDATA.csv\n",
            "1994VAERSSYMPTOMS.csv  2006VAERSSYMPTOMS.csv  2018VAERSSYMPTOMS.csv\n",
            "1994VAERSVAX.csv       2006VAERSVAX.csv       2018VAERSVAX.csv\n",
            "1995VAERSDATA.csv      2007VAERSDATA.csv      2019VAERSDATA.csv\n",
            "1995VAERSSYMPTOMS.csv  2007VAERSSYMPTOMS.csv  2019VAERSSYMPTOMS.csv\n",
            "1995VAERSVAX.csv       2007VAERSVAX.csv       2019VAERSVAX.csv\n",
            "1996VAERSDATA.csv      2008VAERSDATA.csv      2020VAERSDATA.csv\n",
            "1996VAERSSYMPTOMS.csv  2008VAERSSYMPTOMS.csv  2020VAERSSYMPTOMS.csv\n",
            "1996VAERSVAX.csv       2008VAERSVAX.csv       2020VAERSVAX.csv\n",
            "1997VAERSDATA.csv      2009VAERSDATA.csv      2021VAERSDATA.csv\n",
            "1997VAERSSYMPTOMS.csv  2009VAERSSYMPTOMS.csv  2021VAERSSYMPTOMS.csv\n",
            "1997VAERSVAX.csv       2009VAERSVAX.csv       2021VAERSVAX.csv\n",
            "1998VAERSDATA.csv      2010VAERSDATA.csv      2022VAERSDATA.csv\n",
            "1998VAERSSYMPTOMS.csv  2010VAERSSYMPTOMS.csv  2022VAERSSYMPTOMS.csv\n",
            "1998VAERSVAX.csv       2010VAERSVAX.csv       2022VAERSVAX.csv\n",
            "1999VAERSDATA.csv      2011VAERSDATA.csv      data_pat.csv\n",
            "1999VAERSSYMPTOMS.csv  2011VAERSSYMPTOMS.csv  data_sym.csv\n",
            "1999VAERSVAX.csv       2011VAERSVAX.csv       data_vax.csv\n",
            "2000VAERSDATA.csv      2012VAERSDATA.csv      manu_name.csv\n",
            "2000VAERSSYMPTOMS.csv  2012VAERSSYMPTOMS.csv  NonDomesticVAERSDATA.csv\n",
            "2000VAERSVAX.csv       2012VAERSVAX.csv       NonDomesticVAERSSYMPTOMS.csv\n",
            "2001VAERSDATA.csv      2013VAERSDATA.csv      NonDomesticVAERSVAX.csv\n",
            "2001VAERSSYMPTOMS.csv  2013VAERSSYMPTOMS.csv\n",
            "2001VAERSVAX.csv       2013VAERSVAX.csv\n"
          ]
        }
      ]
    },
    {
      "cell_type": "code",
      "source": [
        "import pandas as pd\n",
        "import glob"
      ],
      "metadata": {
        "id": "n10kFGdiUHBM"
      },
      "execution_count": null,
      "outputs": []
    },
    {
      "cell_type": "markdown",
      "source": [
        "### Reading Vaccine files"
      ],
      "metadata": {
        "id": "Txy0EC_hUPTa"
      }
    },
    {
      "cell_type": "code",
      "source": [
        "glob.glob(\"/content/drive/Shareddrives/Team A 606 Capstone Project/Dataset/AllVAERSDataCSVS/*VAERSVAX.csv\")"
      ],
      "metadata": {
        "colab": {
          "base_uri": "https://localhost:8080/"
        },
        "id": "MjVlFlzgVkrB",
        "outputId": "085a670a-12a7-4cce-931d-aaf52a80a282"
      },
      "execution_count": null,
      "outputs": [
        {
          "output_type": "execute_result",
          "data": {
            "text/plain": [
              "['/content/drive/Shareddrives/Team A 606 Capstone Project/Dataset/AllVAERSDataCSVS/1991VAERSVAX.csv',\n",
              " '/content/drive/Shareddrives/Team A 606 Capstone Project/Dataset/AllVAERSDataCSVS/1990VAERSVAX.csv',\n",
              " '/content/drive/Shareddrives/Team A 606 Capstone Project/Dataset/AllVAERSDataCSVS/1994VAERSVAX.csv',\n",
              " '/content/drive/Shareddrives/Team A 606 Capstone Project/Dataset/AllVAERSDataCSVS/1992VAERSVAX.csv',\n",
              " '/content/drive/Shareddrives/Team A 606 Capstone Project/Dataset/AllVAERSDataCSVS/1993VAERSVAX.csv',\n",
              " '/content/drive/Shareddrives/Team A 606 Capstone Project/Dataset/AllVAERSDataCSVS/1996VAERSVAX.csv',\n",
              " '/content/drive/Shareddrives/Team A 606 Capstone Project/Dataset/AllVAERSDataCSVS/1995VAERSVAX.csv',\n",
              " '/content/drive/Shareddrives/Team A 606 Capstone Project/Dataset/AllVAERSDataCSVS/1997VAERSVAX.csv',\n",
              " '/content/drive/Shareddrives/Team A 606 Capstone Project/Dataset/AllVAERSDataCSVS/2000VAERSVAX.csv',\n",
              " '/content/drive/Shareddrives/Team A 606 Capstone Project/Dataset/AllVAERSDataCSVS/1998VAERSVAX.csv',\n",
              " '/content/drive/Shareddrives/Team A 606 Capstone Project/Dataset/AllVAERSDataCSVS/1999VAERSVAX.csv',\n",
              " '/content/drive/Shareddrives/Team A 606 Capstone Project/Dataset/AllVAERSDataCSVS/2001VAERSVAX.csv',\n",
              " '/content/drive/Shareddrives/Team A 606 Capstone Project/Dataset/AllVAERSDataCSVS/2002VAERSVAX.csv',\n",
              " '/content/drive/Shareddrives/Team A 606 Capstone Project/Dataset/AllVAERSDataCSVS/2003VAERSVAX.csv',\n",
              " '/content/drive/Shareddrives/Team A 606 Capstone Project/Dataset/AllVAERSDataCSVS/2005VAERSVAX.csv',\n",
              " '/content/drive/Shareddrives/Team A 606 Capstone Project/Dataset/AllVAERSDataCSVS/2004VAERSVAX.csv',\n",
              " '/content/drive/Shareddrives/Team A 606 Capstone Project/Dataset/AllVAERSDataCSVS/2006VAERSVAX.csv',\n",
              " '/content/drive/Shareddrives/Team A 606 Capstone Project/Dataset/AllVAERSDataCSVS/2007VAERSVAX.csv',\n",
              " '/content/drive/Shareddrives/Team A 606 Capstone Project/Dataset/AllVAERSDataCSVS/2008VAERSVAX.csv',\n",
              " '/content/drive/Shareddrives/Team A 606 Capstone Project/Dataset/AllVAERSDataCSVS/2009VAERSVAX.csv',\n",
              " '/content/drive/Shareddrives/Team A 606 Capstone Project/Dataset/AllVAERSDataCSVS/2010VAERSVAX.csv',\n",
              " '/content/drive/Shareddrives/Team A 606 Capstone Project/Dataset/AllVAERSDataCSVS/2012VAERSVAX.csv',\n",
              " '/content/drive/Shareddrives/Team A 606 Capstone Project/Dataset/AllVAERSDataCSVS/2011VAERSVAX.csv',\n",
              " '/content/drive/Shareddrives/Team A 606 Capstone Project/Dataset/AllVAERSDataCSVS/2014VAERSVAX.csv',\n",
              " '/content/drive/Shareddrives/Team A 606 Capstone Project/Dataset/AllVAERSDataCSVS/2013VAERSVAX.csv',\n",
              " '/content/drive/Shareddrives/Team A 606 Capstone Project/Dataset/AllVAERSDataCSVS/2015VAERSVAX.csv',\n",
              " '/content/drive/Shareddrives/Team A 606 Capstone Project/Dataset/AllVAERSDataCSVS/2016VAERSVAX.csv',\n",
              " '/content/drive/Shareddrives/Team A 606 Capstone Project/Dataset/AllVAERSDataCSVS/2017VAERSVAX.csv',\n",
              " '/content/drive/Shareddrives/Team A 606 Capstone Project/Dataset/AllVAERSDataCSVS/2018VAERSVAX.csv',\n",
              " '/content/drive/Shareddrives/Team A 606 Capstone Project/Dataset/AllVAERSDataCSVS/2019VAERSVAX.csv',\n",
              " '/content/drive/Shareddrives/Team A 606 Capstone Project/Dataset/AllVAERSDataCSVS/2020VAERSVAX.csv',\n",
              " '/content/drive/Shareddrives/Team A 606 Capstone Project/Dataset/AllVAERSDataCSVS/2021VAERSVAX.csv',\n",
              " '/content/drive/Shareddrives/Team A 606 Capstone Project/Dataset/AllVAERSDataCSVS/2022VAERSVAX.csv',\n",
              " '/content/drive/Shareddrives/Team A 606 Capstone Project/Dataset/AllVAERSDataCSVS/NonDomesticVAERSVAX.csv']"
            ]
          },
          "metadata": {},
          "execution_count": 14
        }
      ]
    },
    {
      "cell_type": "code",
      "source": [
        "all_data_vax = []\n",
        "for f in glob.glob(\"/content/drive/Shareddrives/Team A 606 Capstone Project/Dataset/AllVAERSDataCSVS/*VAERSVAX.csv\"):\n",
        "    VAX = pd.read_csv(f,encoding='latin1', engine='python')\n",
        "    all_data_vax.append(VAX)\n",
        "df_vax = pd.concat(all_data_vax, axis=0, ignore_index=True)"
      ],
      "metadata": {
        "id": "17D_Oml-UIjm"
      },
      "execution_count": null,
      "outputs": []
    },
    {
      "cell_type": "code",
      "source": [
        "df_vax.info()"
      ],
      "metadata": {
        "colab": {
          "base_uri": "https://localhost:8080/"
        },
        "id": "s8I7iRpWUjv6",
        "outputId": "f93e96f2-30b9-4eea-ff87-114435e28a9c"
      },
      "execution_count": null,
      "outputs": [
        {
          "output_type": "stream",
          "name": "stdout",
          "text": [
            "<class 'pandas.core.frame.DataFrame'>\n",
            "RangeIndex: 2420759 entries, 0 to 2420758\n",
            "Data columns (total 8 columns):\n",
            " #   Column           Dtype \n",
            "---  ------           ----- \n",
            " 0   VAERS_ID         int64 \n",
            " 1   VAX_TYPE         object\n",
            " 2   VAX_MANU         object\n",
            " 3   VAX_LOT          object\n",
            " 4   VAX_DOSE_SERIES  object\n",
            " 5   VAX_ROUTE        object\n",
            " 6   VAX_SITE         object\n",
            " 7   VAX_NAME         object\n",
            "dtypes: int64(1), object(7)\n",
            "memory usage: 147.8+ MB\n"
          ]
        }
      ]
    },
    {
      "cell_type": "code",
      "source": [
        "# Writing combined files into one file\n",
        "df_vax.to_csv(\"/content/drive/Shareddrives/Team A 606 Capstone Project/Dataset/data_vax.csv\")"
      ],
      "metadata": {
        "id": "d72MMb9kUNNc"
      },
      "execution_count": null,
      "outputs": []
    },
    {
      "cell_type": "markdown",
      "source": [
        "### Reading Symptoms files"
      ],
      "metadata": {
        "id": "mMxb-kmaUlY-"
      }
    },
    {
      "cell_type": "code",
      "source": [
        "glob.glob(\"/content/drive/Shareddrives/Team A 606 Capstone Project/Dataset/AllVAERSDataCSVS/*VAERSSYMPTOMS.csv\")"
      ],
      "metadata": {
        "colab": {
          "base_uri": "https://localhost:8080/"
        },
        "id": "QhZM29IHVoHL",
        "outputId": "c3a883ff-6e2c-42be-9a05-83867285caf5"
      },
      "execution_count": null,
      "outputs": [
        {
          "output_type": "execute_result",
          "data": {
            "text/plain": [
              "['/content/drive/Shareddrives/Team A 606 Capstone Project/Dataset/AllVAERSDataCSVS/1990VAERSSYMPTOMS.csv',\n",
              " '/content/drive/Shareddrives/Team A 606 Capstone Project/Dataset/AllVAERSDataCSVS/1991VAERSSYMPTOMS.csv',\n",
              " '/content/drive/Shareddrives/Team A 606 Capstone Project/Dataset/AllVAERSDataCSVS/1993VAERSSYMPTOMS.csv',\n",
              " '/content/drive/Shareddrives/Team A 606 Capstone Project/Dataset/AllVAERSDataCSVS/1994VAERSSYMPTOMS.csv',\n",
              " '/content/drive/Shareddrives/Team A 606 Capstone Project/Dataset/AllVAERSDataCSVS/1992VAERSSYMPTOMS.csv',\n",
              " '/content/drive/Shareddrives/Team A 606 Capstone Project/Dataset/AllVAERSDataCSVS/1996VAERSSYMPTOMS.csv',\n",
              " '/content/drive/Shareddrives/Team A 606 Capstone Project/Dataset/AllVAERSDataCSVS/1995VAERSSYMPTOMS.csv',\n",
              " '/content/drive/Shareddrives/Team A 606 Capstone Project/Dataset/AllVAERSDataCSVS/1997VAERSSYMPTOMS.csv',\n",
              " '/content/drive/Shareddrives/Team A 606 Capstone Project/Dataset/AllVAERSDataCSVS/1999VAERSSYMPTOMS.csv',\n",
              " '/content/drive/Shareddrives/Team A 606 Capstone Project/Dataset/AllVAERSDataCSVS/2000VAERSSYMPTOMS.csv',\n",
              " '/content/drive/Shareddrives/Team A 606 Capstone Project/Dataset/AllVAERSDataCSVS/1998VAERSSYMPTOMS.csv',\n",
              " '/content/drive/Shareddrives/Team A 606 Capstone Project/Dataset/AllVAERSDataCSVS/2002VAERSSYMPTOMS.csv',\n",
              " '/content/drive/Shareddrives/Team A 606 Capstone Project/Dataset/AllVAERSDataCSVS/2003VAERSSYMPTOMS.csv',\n",
              " '/content/drive/Shareddrives/Team A 606 Capstone Project/Dataset/AllVAERSDataCSVS/2001VAERSSYMPTOMS.csv',\n",
              " '/content/drive/Shareddrives/Team A 606 Capstone Project/Dataset/AllVAERSDataCSVS/2004VAERSSYMPTOMS.csv',\n",
              " '/content/drive/Shareddrives/Team A 606 Capstone Project/Dataset/AllVAERSDataCSVS/2005VAERSSYMPTOMS.csv',\n",
              " '/content/drive/Shareddrives/Team A 606 Capstone Project/Dataset/AllVAERSDataCSVS/2006VAERSSYMPTOMS.csv',\n",
              " '/content/drive/Shareddrives/Team A 606 Capstone Project/Dataset/AllVAERSDataCSVS/2007VAERSSYMPTOMS.csv',\n",
              " '/content/drive/Shareddrives/Team A 606 Capstone Project/Dataset/AllVAERSDataCSVS/2008VAERSSYMPTOMS.csv',\n",
              " '/content/drive/Shareddrives/Team A 606 Capstone Project/Dataset/AllVAERSDataCSVS/2009VAERSSYMPTOMS.csv',\n",
              " '/content/drive/Shareddrives/Team A 606 Capstone Project/Dataset/AllVAERSDataCSVS/2010VAERSSYMPTOMS.csv',\n",
              " '/content/drive/Shareddrives/Team A 606 Capstone Project/Dataset/AllVAERSDataCSVS/2012VAERSSYMPTOMS.csv',\n",
              " '/content/drive/Shareddrives/Team A 606 Capstone Project/Dataset/AllVAERSDataCSVS/2011VAERSSYMPTOMS.csv',\n",
              " '/content/drive/Shareddrives/Team A 606 Capstone Project/Dataset/AllVAERSDataCSVS/2014VAERSSYMPTOMS.csv',\n",
              " '/content/drive/Shareddrives/Team A 606 Capstone Project/Dataset/AllVAERSDataCSVS/2013VAERSSYMPTOMS.csv',\n",
              " '/content/drive/Shareddrives/Team A 606 Capstone Project/Dataset/AllVAERSDataCSVS/2015VAERSSYMPTOMS.csv',\n",
              " '/content/drive/Shareddrives/Team A 606 Capstone Project/Dataset/AllVAERSDataCSVS/2017VAERSSYMPTOMS.csv',\n",
              " '/content/drive/Shareddrives/Team A 606 Capstone Project/Dataset/AllVAERSDataCSVS/2016VAERSSYMPTOMS.csv',\n",
              " '/content/drive/Shareddrives/Team A 606 Capstone Project/Dataset/AllVAERSDataCSVS/2018VAERSSYMPTOMS.csv',\n",
              " '/content/drive/Shareddrives/Team A 606 Capstone Project/Dataset/AllVAERSDataCSVS/2019VAERSSYMPTOMS.csv',\n",
              " '/content/drive/Shareddrives/Team A 606 Capstone Project/Dataset/AllVAERSDataCSVS/2020VAERSSYMPTOMS.csv',\n",
              " '/content/drive/Shareddrives/Team A 606 Capstone Project/Dataset/AllVAERSDataCSVS/2021VAERSSYMPTOMS.csv',\n",
              " '/content/drive/Shareddrives/Team A 606 Capstone Project/Dataset/AllVAERSDataCSVS/2022VAERSSYMPTOMS.csv',\n",
              " '/content/drive/Shareddrives/Team A 606 Capstone Project/Dataset/AllVAERSDataCSVS/NonDomesticVAERSSYMPTOMS.csv']"
            ]
          },
          "metadata": {},
          "execution_count": 15
        }
      ]
    },
    {
      "cell_type": "code",
      "source": [
        "all_data_symptoms = []\n",
        "for f in glob.glob(\"/content/drive/Shareddrives/Team A 606 Capstone Project/Dataset/AllVAERSDataCSVS/*VAERSSYMPTOMS.csv\"):\n",
        "    SYMP = pd.read_csv(f,encoding='latin1', engine='python')\n",
        "    all_data_symptoms.append(SYMP)\n",
        "df_symp = pd.concat(all_data_symptoms, axis=0, ignore_index=True)"
      ],
      "metadata": {
        "id": "dKx0fBNMUsbb"
      },
      "execution_count": null,
      "outputs": []
    },
    {
      "cell_type": "code",
      "source": [
        "df_symp.info()"
      ],
      "metadata": {
        "colab": {
          "base_uri": "https://localhost:8080/"
        },
        "id": "eCn9ASsNUvCU",
        "outputId": "78bcb9fc-a99a-475f-f928-33ad6fd64d3f"
      },
      "execution_count": null,
      "outputs": [
        {
          "output_type": "stream",
          "name": "stdout",
          "text": [
            "<class 'pandas.core.frame.DataFrame'>\n",
            "RangeIndex: 2596826 entries, 0 to 2596825\n",
            "Data columns (total 11 columns):\n",
            " #   Column           Dtype  \n",
            "---  ------           -----  \n",
            " 0   VAERS_ID         int64  \n",
            " 1   SYMPTOM1         object \n",
            " 2   SYMPTOMVERSION1  float64\n",
            " 3   SYMPTOM2         object \n",
            " 4   SYMPTOMVERSION2  float64\n",
            " 5   SYMPTOM3         object \n",
            " 6   SYMPTOMVERSION3  float64\n",
            " 7   SYMPTOM4         object \n",
            " 8   SYMPTOMVERSION4  float64\n",
            " 9   SYMPTOM5         object \n",
            " 10  SYMPTOMVERSION5  float64\n",
            "dtypes: float64(5), int64(1), object(5)\n",
            "memory usage: 217.9+ MB\n"
          ]
        }
      ]
    },
    {
      "cell_type": "code",
      "source": [
        "# Writing combined files into one file\n",
        "df_symp.to_csv(\"/content/drive/Shareddrives/Team A 606 Capstone Project/Dataset/data_sym.csv\")"
      ],
      "metadata": {
        "id": "hArFTWQyUu26"
      },
      "execution_count": null,
      "outputs": []
    },
    {
      "cell_type": "markdown",
      "source": [
        "### Reading Data Files"
      ],
      "metadata": {
        "id": "1PTjWHRCUzj2"
      }
    },
    {
      "cell_type": "code",
      "source": [
        "glob.glob(\"/content/drive/Shareddrives/Team A 606 Capstone Project/Dataset/AllVAERSDataCSVS/*VAERSDATA.csv\")"
      ],
      "metadata": {
        "colab": {
          "base_uri": "https://localhost:8080/"
        },
        "id": "dxv4w4BxVqvI",
        "outputId": "b16c153d-d81a-4e27-b997-7116a6fda277"
      },
      "execution_count": null,
      "outputs": [
        {
          "output_type": "execute_result",
          "data": {
            "text/plain": [
              "['/content/drive/Shareddrives/Team A 606 Capstone Project/Dataset/AllVAERSDataCSVS/1991VAERSDATA.csv',\n",
              " '/content/drive/Shareddrives/Team A 606 Capstone Project/Dataset/AllVAERSDataCSVS/1990VAERSDATA.csv',\n",
              " '/content/drive/Shareddrives/Team A 606 Capstone Project/Dataset/AllVAERSDataCSVS/1993VAERSDATA.csv',\n",
              " '/content/drive/Shareddrives/Team A 606 Capstone Project/Dataset/AllVAERSDataCSVS/1992VAERSDATA.csv',\n",
              " '/content/drive/Shareddrives/Team A 606 Capstone Project/Dataset/AllVAERSDataCSVS/1994VAERSDATA.csv',\n",
              " '/content/drive/Shareddrives/Team A 606 Capstone Project/Dataset/AllVAERSDataCSVS/1995VAERSDATA.csv',\n",
              " '/content/drive/Shareddrives/Team A 606 Capstone Project/Dataset/AllVAERSDataCSVS/1996VAERSDATA.csv',\n",
              " '/content/drive/Shareddrives/Team A 606 Capstone Project/Dataset/AllVAERSDataCSVS/1997VAERSDATA.csv',\n",
              " '/content/drive/Shareddrives/Team A 606 Capstone Project/Dataset/AllVAERSDataCSVS/2000VAERSDATA.csv',\n",
              " '/content/drive/Shareddrives/Team A 606 Capstone Project/Dataset/AllVAERSDataCSVS/1999VAERSDATA.csv',\n",
              " '/content/drive/Shareddrives/Team A 606 Capstone Project/Dataset/AllVAERSDataCSVS/1998VAERSDATA.csv',\n",
              " '/content/drive/Shareddrives/Team A 606 Capstone Project/Dataset/AllVAERSDataCSVS/2002VAERSDATA.csv',\n",
              " '/content/drive/Shareddrives/Team A 606 Capstone Project/Dataset/AllVAERSDataCSVS/2003VAERSDATA.csv',\n",
              " '/content/drive/Shareddrives/Team A 606 Capstone Project/Dataset/AllVAERSDataCSVS/2001VAERSDATA.csv',\n",
              " '/content/drive/Shareddrives/Team A 606 Capstone Project/Dataset/AllVAERSDataCSVS/2005VAERSDATA.csv',\n",
              " '/content/drive/Shareddrives/Team A 606 Capstone Project/Dataset/AllVAERSDataCSVS/2004VAERSDATA.csv',\n",
              " '/content/drive/Shareddrives/Team A 606 Capstone Project/Dataset/AllVAERSDataCSVS/2006VAERSDATA.csv',\n",
              " '/content/drive/Shareddrives/Team A 606 Capstone Project/Dataset/AllVAERSDataCSVS/2007VAERSDATA.csv',\n",
              " '/content/drive/Shareddrives/Team A 606 Capstone Project/Dataset/AllVAERSDataCSVS/2008VAERSDATA.csv',\n",
              " '/content/drive/Shareddrives/Team A 606 Capstone Project/Dataset/AllVAERSDataCSVS/2009VAERSDATA.csv',\n",
              " '/content/drive/Shareddrives/Team A 606 Capstone Project/Dataset/AllVAERSDataCSVS/2010VAERSDATA.csv',\n",
              " '/content/drive/Shareddrives/Team A 606 Capstone Project/Dataset/AllVAERSDataCSVS/2011VAERSDATA.csv',\n",
              " '/content/drive/Shareddrives/Team A 606 Capstone Project/Dataset/AllVAERSDataCSVS/2012VAERSDATA.csv',\n",
              " '/content/drive/Shareddrives/Team A 606 Capstone Project/Dataset/AllVAERSDataCSVS/2014VAERSDATA.csv',\n",
              " '/content/drive/Shareddrives/Team A 606 Capstone Project/Dataset/AllVAERSDataCSVS/2013VAERSDATA.csv',\n",
              " '/content/drive/Shareddrives/Team A 606 Capstone Project/Dataset/AllVAERSDataCSVS/2015VAERSDATA.csv',\n",
              " '/content/drive/Shareddrives/Team A 606 Capstone Project/Dataset/AllVAERSDataCSVS/2016VAERSDATA.csv',\n",
              " '/content/drive/Shareddrives/Team A 606 Capstone Project/Dataset/AllVAERSDataCSVS/2017VAERSDATA.csv',\n",
              " '/content/drive/Shareddrives/Team A 606 Capstone Project/Dataset/AllVAERSDataCSVS/2018VAERSDATA.csv',\n",
              " '/content/drive/Shareddrives/Team A 606 Capstone Project/Dataset/AllVAERSDataCSVS/2019VAERSDATA.csv',\n",
              " '/content/drive/Shareddrives/Team A 606 Capstone Project/Dataset/AllVAERSDataCSVS/2020VAERSDATA.csv',\n",
              " '/content/drive/Shareddrives/Team A 606 Capstone Project/Dataset/AllVAERSDataCSVS/2021VAERSDATA.csv',\n",
              " '/content/drive/Shareddrives/Team A 606 Capstone Project/Dataset/AllVAERSDataCSVS/2022VAERSDATA.csv',\n",
              " '/content/drive/Shareddrives/Team A 606 Capstone Project/Dataset/AllVAERSDataCSVS/NonDomesticVAERSDATA.csv']"
            ]
          },
          "metadata": {},
          "execution_count": 16
        }
      ]
    },
    {
      "cell_type": "code",
      "source": [
        "all_data_DATA = []\n",
        "for f in glob.glob(\"/content/drive/Shareddrives/Team A 606 Capstone Project/Dataset/AllVAERSDataCSVS/*VAERSDATA.csv\"):\n",
        "    DATA = pd.read_csv(f,encoding='latin1', engine='python')\n",
        "    all_data_DATA.append(DATA)\n",
        "df_data = pd.concat(all_data_DATA, axis=0, ignore_index=True)"
      ],
      "metadata": {
        "id": "1jW_OLMtU1JV"
      },
      "execution_count": null,
      "outputs": []
    },
    {
      "cell_type": "code",
      "source": [
        "df_data.info()"
      ],
      "metadata": {
        "colab": {
          "base_uri": "https://localhost:8080/"
        },
        "id": "1nLQC1eXU6-h",
        "outputId": "7e9aeee3-ad46-4d48-fe26-122de0b07e5f"
      },
      "execution_count": null,
      "outputs": [
        {
          "output_type": "stream",
          "name": "stdout",
          "text": [
            "<class 'pandas.core.frame.DataFrame'>\n",
            "RangeIndex: 1951645 entries, 0 to 1951644\n",
            "Data columns (total 35 columns):\n",
            " #   Column        Dtype  \n",
            "---  ------        -----  \n",
            " 0   VAERS_ID      int64  \n",
            " 1   RECVDATE      object \n",
            " 2   STATE         object \n",
            " 3   AGE_YRS       float64\n",
            " 4   CAGE_YR       float64\n",
            " 5   CAGE_MO       float64\n",
            " 6   SEX           object \n",
            " 7   RPT_DATE      object \n",
            " 8   SYMPTOM_TEXT  object \n",
            " 9   DIED          object \n",
            " 10  DATEDIED      object \n",
            " 11  L_THREAT      object \n",
            " 12  ER_VISIT      object \n",
            " 13  HOSPITAL      object \n",
            " 14  HOSPDAYS      float64\n",
            " 15  X_STAY        object \n",
            " 16  DISABLE       object \n",
            " 17  RECOVD        object \n",
            " 18  VAX_DATE      object \n",
            " 19  ONSET_DATE    object \n",
            " 20  NUMDAYS       float64\n",
            " 21  LAB_DATA      object \n",
            " 22  V_ADMINBY     object \n",
            " 23  V_FUNDBY      object \n",
            " 24  OTHER_MEDS    object \n",
            " 25  CUR_ILL       object \n",
            " 26  HISTORY       object \n",
            " 27  PRIOR_VAX     object \n",
            " 28  SPLTTYPE      object \n",
            " 29  FORM_VERS     int64  \n",
            " 30  TODAYS_DATE   object \n",
            " 31  BIRTH_DEFECT  object \n",
            " 32  OFC_VISIT     object \n",
            " 33  ER_ED_VISIT   object \n",
            " 34  ALLERGIES     object \n",
            "dtypes: float64(5), int64(2), object(28)\n",
            "memory usage: 521.1+ MB\n"
          ]
        }
      ]
    },
    {
      "cell_type": "code",
      "source": [
        "# Writing combined files into one file\n",
        "df_data.to_csv(\"/content/drive/Shareddrives/Team A 606 Capstone Project/Dataset/data_pat.csv\")"
      ],
      "metadata": {
        "id": "ihpuSci8U3KE"
      },
      "execution_count": null,
      "outputs": []
    },
    {
      "cell_type": "markdown",
      "source": [
        "## Understanding the distributions of vaccines"
      ],
      "metadata": {
        "id": "M2a691_jVE8A"
      }
    },
    {
      "cell_type": "code",
      "source": [
        "\n",
        "vax_type  = df_vax['VAX_TYPE'].value_counts().sort_values(ascending=False)[1:15]\n",
        "vax_type = pd.DataFrame(vax_type)\n",
        "plt.figure(figsize=(10,5))\n",
        "sns.barplot(x=vax_type.index, y=vax_type.VAX_TYPE, data=vax_type, alpha=0.8)\n",
        "plt.title('Reported Adverse Events as per Vaccine Name')\n",
        "plt.ylabel('Number of reported adverse event', fontsize=12)\n",
        "plt.xlabel('Vaccine Name', fontsize=12)\n",
        "plt.show()"
      ],
      "metadata": {
        "id": "AwKV2-LVkbjH",
        "colab": {
          "base_uri": "https://localhost:8080/",
          "height": 353
        },
        "outputId": "ca141e65-a5f4-4ac9-f94f-e091f45a65e4"
      },
      "execution_count": null,
      "outputs": [
        {
          "output_type": "display_data",
          "data": {
            "text/plain": [
              "<Figure size 720x360 with 1 Axes>"
            ],
            "image/png": "[encoded data removed]"
          },
          "metadata": {
            "needs_background": "light"
          }
        }
      ]
    },
    {
      "cell_type": "markdown",
      "source": [
        "### Data Exploration "
      ],
      "metadata": {
        "id": "J7m10HYpZi6U"
      }
    },
    {
      "cell_type": "code",
      "source": [
        "print(df_data[\"VAERS_ID\"].nunique())\n",
        "print(df_symp[\"VAERS_ID\"].nunique())\n",
        "print(df_vax[\"VAERS_ID\"].nunique())"
      ],
      "metadata": {
        "id": "ubNmkMVJRTG7",
        "colab": {
          "base_uri": "https://localhost:8080/"
        },
        "outputId": "d1bd2f9d-1f4d-4a01-9389-d1ea87801778"
      },
      "execution_count": null,
      "outputs": [
        {
          "output_type": "stream",
          "name": "stdout",
          "text": [
            "1951645\n",
            "1951386\n",
            "1951644\n"
          ]
        }
      ]
    },
    {
      "cell_type": "code",
      "source": [
        "print(df_data.shape)\n",
        "print(df_symp.shape)\n",
        "print(df_vax.shape)"
      ],
      "metadata": {
        "id": "UtzjVqUdvWW1",
        "colab": {
          "base_uri": "https://localhost:8080/"
        },
        "outputId": "e4aafca7-4527-4330-b659-575279f9dfa8"
      },
      "execution_count": null,
      "outputs": [
        {
          "output_type": "stream",
          "name": "stdout",
          "text": [
            "(1951645, 35)\n",
            "(2596826, 11)\n",
            "(2420759, 8)\n"
          ]
        }
      ]
    },
    {
      "cell_type": "code",
      "source": [
        "df_vax.head()\n"
      ],
      "metadata": {
        "colab": {
          "base_uri": "https://localhost:8080/",
          "height": 206
        },
        "id": "XMbJc6xzV6kT",
        "outputId": "4c01bb42-1253-4d98-8278-9a234a578779"
      },
      "execution_count": null,
      "outputs": [
        {
          "output_type": "execute_result",
          "data": {
            "text/plain": [
              "   VAERS_ID VAX_TYPE               VAX_MANU  VAX_LOT VAX_DOSE_SERIES  \\\n",
              "0     27274     HIBV           PFIZER\\WYETH   M030FC               1   \n",
              "1     27275     FLU3            PARKE-DAVIS   01870P             UNK   \n",
              "2     27276      DTP   LEDERLE LABORATORIES  0B21173               3   \n",
              "3     27276      OPV           PFIZER\\WYETH      NaN               3   \n",
              "4     27277      RAB  PASTEUR MERIEUX INST.    D1186               2   \n",
              "\n",
              "  VAX_ROUTE VAX_SITE                        VAX_NAME  \n",
              "0        IM      NaN                  HIB (HIBTITER)  \n",
              "1        IM       LA  INFLUENZA (SEASONAL) (FLUOGEN)  \n",
              "2      IM L      NaN               DTP (TRI-IMMUNOL)  \n",
              "3        PO       MO     POLIO VIRUS, ORAL (ORIMUNE)  \n",
              "4       NaN       LA              RABIES (IMOVAX ID)  "
            ],
            "text/html": [
              "\n",
              "  <div id=\"df-0eb12eb4-765e-49b5-9601-87c138e8afec\">\n",
              "    <div class=\"colab-df-container\">\n",
              "      <div>\n",
              "<style scoped>\n",
              "    .dataframe tbody tr th:only-of-type {\n",
              "        vertical-align: middle;\n",
              "    }\n",
              "\n",
              "    .dataframe tbody tr th {\n",
              "        vertical-align: top;\n",
              "    }\n",
              "\n",
              "    .dataframe thead th {\n",
              "        text-align: right;\n",
              "    }\n",
              "</style>\n",
              "<table border=\"1\" class=\"dataframe\">\n",
              "  <thead>\n",
              "    <tr style=\"text-align: right;\">\n",
              "      <th></th>\n",
              "      <th>VAERS_ID</th>\n",
              "      <th>VAX_TYPE</th>\n",
              "      <th>VAX_MANU</th>\n",
              "      <th>VAX_LOT</th>\n",
              "      <th>VAX_DOSE_SERIES</th>\n",
              "      <th>VAX_ROUTE</th>\n",
              "      <th>VAX_SITE</th>\n",
              "      <th>VAX_NAME</th>\n",
              "    </tr>\n",
              "  </thead>\n",
              "  <tbody>\n",
              "    <tr>\n",
              "      <th>0</th>\n",
              "      <td>27274</td>\n",
              "      <td>HIBV</td>\n",
              "      <td>PFIZER\\WYETH</td>\n",
              "      <td>M030FC</td>\n",
              "      <td>1</td>\n",
              "      <td>IM</td>\n",
              "      <td>NaN</td>\n",
              "      <td>HIB (HIBTITER)</td>\n",
              "    </tr>\n",
              "    <tr>\n",
              "      <th>1</th>\n",
              "      <td>27275</td>\n",
              "      <td>FLU3</td>\n",
              "      <td>PARKE-DAVIS</td>\n",
              "      <td>01870P</td>\n",
              "      <td>UNK</td>\n",
              "      <td>IM</td>\n",
              "      <td>LA</td>\n",
              "      <td>INFLUENZA (SEASONAL) (FLUOGEN)</td>\n",
              "    </tr>\n",
              "    <tr>\n",
              "      <th>2</th>\n",
              "      <td>27276</td>\n",
              "      <td>DTP</td>\n",
              "      <td>LEDERLE LABORATORIES</td>\n",
              "      <td>0B21173</td>\n",
              "      <td>3</td>\n",
              "      <td>IM L</td>\n",
              "      <td>NaN</td>\n",
              "      <td>DTP (TRI-IMMUNOL)</td>\n",
              "    </tr>\n",
              "    <tr>\n",
              "      <th>3</th>\n",
              "      <td>27276</td>\n",
              "      <td>OPV</td>\n",
              "      <td>PFIZER\\WYETH</td>\n",
              "      <td>NaN</td>\n",
              "      <td>3</td>\n",
              "      <td>PO</td>\n",
              "      <td>MO</td>\n",
              "      <td>POLIO VIRUS, ORAL (ORIMUNE)</td>\n",
              "    </tr>\n",
              "    <tr>\n",
              "      <th>4</th>\n",
              "      <td>27277</td>\n",
              "      <td>RAB</td>\n",
              "      <td>PASTEUR MERIEUX INST.</td>\n",
              "      <td>D1186</td>\n",
              "      <td>2</td>\n",
              "      <td>NaN</td>\n",
              "      <td>LA</td>\n",
              "      <td>RABIES (IMOVAX ID)</td>\n",
              "    </tr>\n",
              "  </tbody>\n",
              "</table>\n",
              "</div>\n",
              "      <button class=\"colab-df-convert\" onclick=\"convertToInteractive('df-0eb12eb4-765e-49b5-9601-87c138e8afec')\"\n",
              "              title=\"Convert this dataframe to an interactive table.\"\n",
              "              style=\"display:none;\">\n",
              "        \n",
              "  <svg xmlns=\"http://www.w3.org/2000/svg\" height=\"24px\"viewBox=\"0 0 24 24\"\n",
              "       width=\"24px\">\n",
              "    <path d=\"M0 0h24v24H0V0z\" fill=\"none\"/>\n",
              "    <path d=\"M18.56 5.44l.94 2.06.94-2.06 2.06-.94-2.06-.94-.94-2.06-.94 2.06-2.06.94zm-11 1L8.5 8.5l.94-2.06 2.06-.94-2.06-.94L8.5 2.5l-.94 2.06-2.06.94zm10 10l.94 2.06.94-2.06 2.06-.94-2.06-.94-.94-2.06-.94 2.06-2.06.94z\"/><path d=\"M17.41 7.96l-1.37-1.37c-.4-.4-.92-.59-1.43-.59-.52 0-1.04.2-1.43.59L10.3 9.45l-7.72 7.72c-.78.78-.78 2.05 0 2.83L4 21.41c.39.39.9.59 1.41.59.51 0 1.02-.2 1.41-.59l7.78-7.78 2.81-2.81c.8-.78.8-2.07 0-2.86zM5.41 20L4 18.59l7.72-7.72 1.47 1.35L5.41 20z\"/>\n",
              "  </svg>\n",
              "      </button>\n",
              "      \n",
              "  <style>\n",
              "    .colab-df-container {\n",
              "      display:flex;\n",
              "      flex-wrap:wrap;\n",
              "      gap: 12px;\n",
              "    }\n",
              "\n",
              "    .colab-df-convert {\n",
              "      background-color: #E8F0FE;\n",
              "      border: none;\n",
              "      border-radius: 50%;\n",
              "      cursor: pointer;\n",
              "      display: none;\n",
              "      fill: #1967D2;\n",
              "      height: 32px;\n",
              "      padding: 0 0 0 0;\n",
              "      width: 32px;\n",
              "    }\n",
              "\n",
              "    .colab-df-convert:hover {\n",
              "      background-color: #E2EBFA;\n",
              "      box-shadow: 0px 1px 2px rgba(60, 64, 67, 0.3), 0px 1px 3px 1px rgba(60, 64, 67, 0.15);\n",
              "      fill: #174EA6;\n",
              "    }\n",
              "\n",
              "    [theme=dark] .colab-df-convert {\n",
              "      background-color: #3B4455;\n",
              "      fill: #D2E3FC;\n",
              "    }\n",
              "\n",
              "    [theme=dark] .colab-df-convert:hover {\n",
              "      background-color: #434B5C;\n",
              "      box-shadow: 0px 1px 3px 1px rgba(0, 0, 0, 0.15);\n",
              "      filter: drop-shadow(0px 1px 2px rgba(0, 0, 0, 0.3));\n",
              "      fill: #FFFFFF;\n",
              "    }\n",
              "  </style>\n",
              "\n",
              "      <script>\n",
              "        const buttonEl =\n",
              "          document.querySelector('#df-0eb12eb4-765e-49b5-9601-87c138e8afec button.colab-df-convert');\n",
              "        buttonEl.style.display =\n",
              "          google.colab.kernel.accessAllowed ? 'block' : 'none';\n",
              "\n",
              "        async function convertToInteractive(key) {\n",
              "          const element = document.querySelector('#df-0eb12eb4-765e-49b5-9601-87c138e8afec');\n",
              "          const dataTable =\n",
              "            await google.colab.kernel.invokeFunction('convertToInteractive',\n",
              "                                                     [key], {});\n",
              "          if (!dataTable) return;\n",
              "\n",
              "          const docLinkHtml = 'Like what you see? Visit the ' +\n",
              "            '<a target=\"_blank\" href=https://colab.research.google.com/notebooks/data_table.ipynb>data table notebook</a>'\n",
              "            + ' to learn more about interactive tables.';\n",
              "          element.innerHTML = '';\n",
              "          dataTable['output_type'] = 'display_data';\n",
              "          await google.colab.output.renderOutput(dataTable, element);\n",
              "          const docLink = document.createElement('div');\n",
              "          docLink.innerHTML = docLinkHtml;\n",
              "          element.appendChild(docLink);\n",
              "        }\n",
              "      </script>\n",
              "    </div>\n",
              "  </div>\n",
              "  "
            ]
          },
          "metadata": {},
          "execution_count": 4
        }
      ]
    },
    {
      "cell_type": "code",
      "source": [
        "df_symp.head()"
      ],
      "metadata": {
        "colab": {
          "base_uri": "https://localhost:8080/",
          "height": 302
        },
        "id": "ecN4iD79X1-_",
        "outputId": "3783d698-357e-4802-8b2a-6e05ef797b85"
      },
      "execution_count": null,
      "outputs": [
        {
          "output_type": "execute_result",
          "data": {
            "text/plain": [
              "   VAERS_ID    SYMPTOM1  SYMPTOMVERSION1               SYMPTOM2  \\\n",
              "0     25001   Agitation              8.1                    NaN   \n",
              "1     25003    Delirium              8.1            Hypokinesia   \n",
              "2     25004      Chills              8.1     Dermatitis contact   \n",
              "3     25005   Arthritis              8.1  Injection site oedema   \n",
              "4     25006  Convulsion              8.1              Dizziness   \n",
              "\n",
              "   SYMPTOMVERSION2                 SYMPTOM3  SYMPTOMVERSION3     SYMPTOM4  \\\n",
              "0              NaN                      NaN              NaN          NaN   \n",
              "1              8.1                Hypotonia              8.1          NaN   \n",
              "2              8.1           Oedema genital              8.1  Pelvic pain   \n",
              "3              8.1  Injection site reaction              8.1          NaN   \n",
              "4              8.1                      NaN              NaN          NaN   \n",
              "\n",
              "   SYMPTOMVERSION4 SYMPTOM5  SYMPTOMVERSION5  \n",
              "0              NaN      NaN              NaN  \n",
              "1              NaN      NaN              NaN  \n",
              "2              8.1      NaN              NaN  \n",
              "3              NaN      NaN              NaN  \n",
              "4              NaN      NaN              NaN  "
            ],
            "text/html": [
              "\n",
              "  <div id=\"df-92a2dd06-cff0-4900-a941-d107a0740405\">\n",
              "    <div class=\"colab-df-container\">\n",
              "      <div>\n",
              "<style scoped>\n",
              "    .dataframe tbody tr th:only-of-type {\n",
              "        vertical-align: middle;\n",
              "    }\n",
              "\n",
              "    .dataframe tbody tr th {\n",
              "        vertical-align: top;\n",
              "    }\n",
              "\n",
              "    .dataframe thead th {\n",
              "        text-align: right;\n",
              "    }\n",
              "</style>\n",
              "<table border=\"1\" class=\"dataframe\">\n",
              "  <thead>\n",
              "    <tr style=\"text-align: right;\">\n",
              "      <th></th>\n",
              "      <th>VAERS_ID</th>\n",
              "      <th>SYMPTOM1</th>\n",
              "      <th>SYMPTOMVERSION1</th>\n",
              "      <th>SYMPTOM2</th>\n",
              "      <th>SYMPTOMVERSION2</th>\n",
              "      <th>SYMPTOM3</th>\n",
              "      <th>SYMPTOMVERSION3</th>\n",
              "      <th>SYMPTOM4</th>\n",
              "      <th>SYMPTOMVERSION4</th>\n",
              "      <th>SYMPTOM5</th>\n",
              "      <th>SYMPTOMVERSION5</th>\n",
              "    </tr>\n",
              "  </thead>\n",
              "  <tbody>\n",
              "    <tr>\n",
              "      <th>0</th>\n",
              "      <td>25001</td>\n",
              "      <td>Agitation</td>\n",
              "      <td>8.1</td>\n",
              "      <td>NaN</td>\n",
              "      <td>NaN</td>\n",
              "      <td>NaN</td>\n",
              "      <td>NaN</td>\n",
              "      <td>NaN</td>\n",
              "      <td>NaN</td>\n",
              "      <td>NaN</td>\n",
              "      <td>NaN</td>\n",
              "    </tr>\n",
              "    <tr>\n",
              "      <th>1</th>\n",
              "      <td>25003</td>\n",
              "      <td>Delirium</td>\n",
              "      <td>8.1</td>\n",
              "      <td>Hypokinesia</td>\n",
              "      <td>8.1</td>\n",
              "      <td>Hypotonia</td>\n",
              "      <td>8.1</td>\n",
              "      <td>NaN</td>\n",
              "      <td>NaN</td>\n",
              "      <td>NaN</td>\n",
              "      <td>NaN</td>\n",
              "    </tr>\n",
              "    <tr>\n",
              "      <th>2</th>\n",
              "      <td>25004</td>\n",
              "      <td>Chills</td>\n",
              "      <td>8.1</td>\n",
              "      <td>Dermatitis contact</td>\n",
              "      <td>8.1</td>\n",
              "      <td>Oedema genital</td>\n",
              "      <td>8.1</td>\n",
              "      <td>Pelvic pain</td>\n",
              "      <td>8.1</td>\n",
              "      <td>NaN</td>\n",
              "      <td>NaN</td>\n",
              "    </tr>\n",
              "    <tr>\n",
              "      <th>3</th>\n",
              "      <td>25005</td>\n",
              "      <td>Arthritis</td>\n",
              "      <td>8.1</td>\n",
              "      <td>Injection site oedema</td>\n",
              "      <td>8.1</td>\n",
              "      <td>Injection site reaction</td>\n",
              "      <td>8.1</td>\n",
              "      <td>NaN</td>\n",
              "      <td>NaN</td>\n",
              "      <td>NaN</td>\n",
              "      <td>NaN</td>\n",
              "    </tr>\n",
              "    <tr>\n",
              "      <th>4</th>\n",
              "      <td>25006</td>\n",
              "      <td>Convulsion</td>\n",
              "      <td>8.1</td>\n",
              "      <td>Dizziness</td>\n",
              "      <td>8.1</td>\n",
              "      <td>NaN</td>\n",
              "      <td>NaN</td>\n",
              "      <td>NaN</td>\n",
              "      <td>NaN</td>\n",
              "      <td>NaN</td>\n",
              "      <td>NaN</td>\n",
              "    </tr>\n",
              "  </tbody>\n",
              "</table>\n",
              "</div>\n",
              "      <button class=\"colab-df-convert\" onclick=\"convertToInteractive('df-92a2dd06-cff0-4900-a941-d107a0740405')\"\n",
              "              title=\"Convert this dataframe to an interactive table.\"\n",
              "              style=\"display:none;\">\n",
              "        \n",
              "  <svg xmlns=\"http://www.w3.org/2000/svg\" height=\"24px\"viewBox=\"0 0 24 24\"\n",
              "       width=\"24px\">\n",
              "    <path d=\"M0 0h24v24H0V0z\" fill=\"none\"/>\n",
              "    <path d=\"M18.56 5.44l.94 2.06.94-2.06 2.06-.94-2.06-.94-.94-2.06-.94 2.06-2.06.94zm-11 1L8.5 8.5l.94-2.06 2.06-.94-2.06-.94L8.5 2.5l-.94 2.06-2.06.94zm10 10l.94 2.06.94-2.06 2.06-.94-2.06-.94-.94-2.06-.94 2.06-2.06.94z\"/><path d=\"M17.41 7.96l-1.37-1.37c-.4-.4-.92-.59-1.43-.59-.52 0-1.04.2-1.43.59L10.3 9.45l-7.72 7.72c-.78.78-.78 2.05 0 2.83L4 21.41c.39.39.9.59 1.41.59.51 0 1.02-.2 1.41-.59l7.78-7.78 2.81-2.81c.8-.78.8-2.07 0-2.86zM5.41 20L4 18.59l7.72-7.72 1.47 1.35L5.41 20z\"/>\n",
              "  </svg>\n",
              "      </button>\n",
              "      \n",
              "  <style>\n",
              "    .colab-df-container {\n",
              "      display:flex;\n",
              "      flex-wrap:wrap;\n",
              "      gap: 12px;\n",
              "    }\n",
              "\n",
              "    .colab-df-convert {\n",
              "      background-color: #E8F0FE;\n",
              "      border: none;\n",
              "      border-radius: 50%;\n",
              "      cursor: pointer;\n",
              "      display: none;\n",
              "      fill: #1967D2;\n",
              "      height: 32px;\n",
              "      padding: 0 0 0 0;\n",
              "      width: 32px;\n",
              "    }\n",
              "\n",
              "    .colab-df-convert:hover {\n",
              "      background-color: #E2EBFA;\n",
              "      box-shadow: 0px 1px 2px rgba(60, 64, 67, 0.3), 0px 1px 3px 1px rgba(60, 64, 67, 0.15);\n",
              "      fill: #174EA6;\n",
              "    }\n",
              "\n",
              "    [theme=dark] .colab-df-convert {\n",
              "      background-color: #3B4455;\n",
              "      fill: #D2E3FC;\n",
              "    }\n",
              "\n",
              "    [theme=dark] .colab-df-convert:hover {\n",
              "      background-color: #434B5C;\n",
              "      box-shadow: 0px 1px 3px 1px rgba(0, 0, 0, 0.15);\n",
              "      filter: drop-shadow(0px 1px 2px rgba(0, 0, 0, 0.3));\n",
              "      fill: #FFFFFF;\n",
              "    }\n",
              "  </style>\n",
              "\n",
              "      <script>\n",
              "        const buttonEl =\n",
              "          document.querySelector('#df-92a2dd06-cff0-4900-a941-d107a0740405 button.colab-df-convert');\n",
              "        buttonEl.style.display =\n",
              "          google.colab.kernel.accessAllowed ? 'block' : 'none';\n",
              "\n",
              "        async function convertToInteractive(key) {\n",
              "          const element = document.querySelector('#df-92a2dd06-cff0-4900-a941-d107a0740405');\n",
              "          const dataTable =\n",
              "            await google.colab.kernel.invokeFunction('convertToInteractive',\n",
              "                                                     [key], {});\n",
              "          if (!dataTable) return;\n",
              "\n",
              "          const docLinkHtml = 'Like what you see? Visit the ' +\n",
              "            '<a target=\"_blank\" href=https://colab.research.google.com/notebooks/data_table.ipynb>data table notebook</a>'\n",
              "            + ' to learn more about interactive tables.';\n",
              "          element.innerHTML = '';\n",
              "          dataTable['output_type'] = 'display_data';\n",
              "          await google.colab.output.renderOutput(dataTable, element);\n",
              "          const docLink = document.createElement('div');\n",
              "          docLink.innerHTML = docLinkHtml;\n",
              "          element.appendChild(docLink);\n",
              "        }\n",
              "      </script>\n",
              "    </div>\n",
              "  </div>\n",
              "  "
            ]
          },
          "metadata": {},
          "execution_count": 8
        }
      ]
    },
    {
      "cell_type": "code",
      "source": [
        "df_data.head()"
      ],
      "metadata": {
        "id": "GFI5soZKYBNo",
        "colab": {
          "base_uri": "https://localhost:8080/",
          "height": 525
        },
        "outputId": "08a375a4-e771-4ef8-f1b8-4cb0728dae80"
      },
      "execution_count": null,
      "outputs": [
        {
          "output_type": "execute_result",
          "data": {
            "text/plain": [
              "   VAERS_ID    RECVDATE STATE  AGE_YRS  CAGE_YR  CAGE_MO SEX    RPT_DATE  \\\n",
              "0     27274  01/02/1991    CA      1.5      NaN      NaN   F         NaN   \n",
              "1     27275  01/02/1991    MN     82.0     82.0      NaN   M  12/26/1990   \n",
              "2     27276  01/02/1991    GA      0.6      0.0      0.6   F  12/14/1990   \n",
              "3     27277  01/02/1991    NY     37.0     37.0      NaN   F  12/05/1990   \n",
              "4     27278  01/02/1991    ME     57.0     57.0      NaN   M  12/20/1990   \n",
              "\n",
              "                                        SYMPTOM_TEXT DIED  ...  \\\n",
              "0  Pt vaccinated with HIB titer developed meningi...  NaN  ...   \n",
              "1  Pt vaccinated with FLUOGEN apparent cardiac ar...    Y  ...   \n",
              "2  Pt vaccinated with DTP/OPV developed fever 105...  NaN  ...   \n",
              "3  Pt vacc. w/ Rabies developed backache, very pa...  NaN  ...   \n",
              "4  Pt vaccinated with Pneumococcal/FLU ZONE devel...  NaN  ...   \n",
              "\n",
              "                        CUR_ILL  \\\n",
              "0  Had URI at time of injection   \n",
              "1                           NaN   \n",
              "2             mild otitis media   \n",
              "3                           NaN   \n",
              "4            Emphysema no acute   \n",
              "\n",
              "                                             HISTORY          PRIOR_VAX  \\\n",
              "0                                                NaN                NaN   \n",
              "1  No allergies, murmur, parkinson's dsiease, art...  ~ ()~~~In patient   \n",
              "2                                       otitis media  ~ ()~~~In patient   \n",
              "3                                                NaN  ~ ()~~~In patient   \n",
              "4                emphysema/Rt shoulder injury/smoker  ~ ()~~~In patient   \n",
              "\n",
              "  SPLTTYPE  FORM_VERS TODAYS_DATE BIRTH_DEFECT OFC_VISIT ER_ED_VISIT ALLERGIES  \n",
              "0      NaN          1         NaN          NaN       NaN         NaN       NaN  \n",
              "1      NaN          1         NaN          NaN       NaN         NaN       NaN  \n",
              "2      NaN          1         NaN          NaN       NaN         NaN       NaN  \n",
              "3      NaN          1         NaN          NaN       NaN         NaN       NaN  \n",
              "4      NaN          1         NaN          NaN       NaN         NaN       NaN  \n",
              "\n",
              "[5 rows x 35 columns]"
            ],
            "text/html": [
              "\n",
              "  <div id=\"df-e0faa48c-b8df-4d69-bf81-dc280f0eaa5a\">\n",
              "    <div class=\"colab-df-container\">\n",
              "      <div>\n",
              "<style scoped>\n",
              "    .dataframe tbody tr th:only-of-type {\n",
              "        vertical-align: middle;\n",
              "    }\n",
              "\n",
              "    .dataframe tbody tr th {\n",
              "        vertical-align: top;\n",
              "    }\n",
              "\n",
              "    .dataframe thead th {\n",
              "        text-align: right;\n",
              "    }\n",
              "</style>\n",
              "<table border=\"1\" class=\"dataframe\">\n",
              "  <thead>\n",
              "    <tr style=\"text-align: right;\">\n",
              "      <th></th>\n",
              "      <th>VAERS_ID</th>\n",
              "      <th>RECVDATE</th>\n",
              "      <th>STATE</th>\n",
              "      <th>AGE_YRS</th>\n",
              "      <th>CAGE_YR</th>\n",
              "      <th>CAGE_MO</th>\n",
              "      <th>SEX</th>\n",
              "      <th>RPT_DATE</th>\n",
              "      <th>SYMPTOM_TEXT</th>\n",
              "      <th>DIED</th>\n",
              "      <th>...</th>\n",
              "      <th>CUR_ILL</th>\n",
              "      <th>HISTORY</th>\n",
              "      <th>PRIOR_VAX</th>\n",
              "      <th>SPLTTYPE</th>\n",
              "      <th>FORM_VERS</th>\n",
              "      <th>TODAYS_DATE</th>\n",
              "      <th>BIRTH_DEFECT</th>\n",
              "      <th>OFC_VISIT</th>\n",
              "      <th>ER_ED_VISIT</th>\n",
              "      <th>ALLERGIES</th>\n",
              "    </tr>\n",
              "  </thead>\n",
              "  <tbody>\n",
              "    <tr>\n",
              "      <th>0</th>\n",
              "      <td>27274</td>\n",
              "      <td>01/02/1991</td>\n",
              "      <td>CA</td>\n",
              "      <td>1.5</td>\n",
              "      <td>NaN</td>\n",
              "      <td>NaN</td>\n",
              "      <td>F</td>\n",
              "      <td>NaN</td>\n",
              "      <td>Pt vaccinated with HIB titer developed meningi...</td>\n",
              "      <td>NaN</td>\n",
              "      <td>...</td>\n",
              "      <td>Had URI at time of injection</td>\n",
              "      <td>NaN</td>\n",
              "      <td>NaN</td>\n",
              "      <td>NaN</td>\n",
              "      <td>1</td>\n",
              "      <td>NaN</td>\n",
              "      <td>NaN</td>\n",
              "      <td>NaN</td>\n",
              "      <td>NaN</td>\n",
              "      <td>NaN</td>\n",
              "    </tr>\n",
              "    <tr>\n",
              "      <th>1</th>\n",
              "      <td>27275</td>\n",
              "      <td>01/02/1991</td>\n",
              "      <td>MN</td>\n",
              "      <td>82.0</td>\n",
              "      <td>82.0</td>\n",
              "      <td>NaN</td>\n",
              "      <td>M</td>\n",
              "      <td>12/26/1990</td>\n",
              "      <td>Pt vaccinated with FLUOGEN apparent cardiac ar...</td>\n",
              "      <td>Y</td>\n",
              "      <td>...</td>\n",
              "      <td>NaN</td>\n",
              "      <td>No allergies, murmur, parkinson's dsiease, art...</td>\n",
              "      <td>~ ()~~~In patient</td>\n",
              "      <td>NaN</td>\n",
              "      <td>1</td>\n",
              "      <td>NaN</td>\n",
              "      <td>NaN</td>\n",
              "      <td>NaN</td>\n",
              "      <td>NaN</td>\n",
              "      <td>NaN</td>\n",
              "    </tr>\n",
              "    <tr>\n",
              "      <th>2</th>\n",
              "      <td>27276</td>\n",
              "      <td>01/02/1991</td>\n",
              "      <td>GA</td>\n",
              "      <td>0.6</td>\n",
              "      <td>0.0</td>\n",
              "      <td>0.6</td>\n",
              "      <td>F</td>\n",
              "      <td>12/14/1990</td>\n",
              "      <td>Pt vaccinated with DTP/OPV developed fever 105...</td>\n",
              "      <td>NaN</td>\n",
              "      <td>...</td>\n",
              "      <td>mild otitis media</td>\n",
              "      <td>otitis media</td>\n",
              "      <td>~ ()~~~In patient</td>\n",
              "      <td>NaN</td>\n",
              "      <td>1</td>\n",
              "      <td>NaN</td>\n",
              "      <td>NaN</td>\n",
              "      <td>NaN</td>\n",
              "      <td>NaN</td>\n",
              "      <td>NaN</td>\n",
              "    </tr>\n",
              "    <tr>\n",
              "      <th>3</th>\n",
              "      <td>27277</td>\n",
              "      <td>01/02/1991</td>\n",
              "      <td>NY</td>\n",
              "      <td>37.0</td>\n",
              "      <td>37.0</td>\n",
              "      <td>NaN</td>\n",
              "      <td>F</td>\n",
              "      <td>12/05/1990</td>\n",
              "      <td>Pt vacc. w/ Rabies developed backache, very pa...</td>\n",
              "      <td>NaN</td>\n",
              "      <td>...</td>\n",
              "      <td>NaN</td>\n",
              "      <td>NaN</td>\n",
              "      <td>~ ()~~~In patient</td>\n",
              "      <td>NaN</td>\n",
              "      <td>1</td>\n",
              "      <td>NaN</td>\n",
              "      <td>NaN</td>\n",
              "      <td>NaN</td>\n",
              "      <td>NaN</td>\n",
              "      <td>NaN</td>\n",
              "    </tr>\n",
              "    <tr>\n",
              "      <th>4</th>\n",
              "      <td>27278</td>\n",
              "      <td>01/02/1991</td>\n",
              "      <td>ME</td>\n",
              "      <td>57.0</td>\n",
              "      <td>57.0</td>\n",
              "      <td>NaN</td>\n",
              "      <td>M</td>\n",
              "      <td>12/20/1990</td>\n",
              "      <td>Pt vaccinated with Pneumococcal/FLU ZONE devel...</td>\n",
              "      <td>NaN</td>\n",
              "      <td>...</td>\n",
              "      <td>Emphysema no acute</td>\n",
              "      <td>emphysema/Rt shoulder injury/smoker</td>\n",
              "      <td>~ ()~~~In patient</td>\n",
              "      <td>NaN</td>\n",
              "      <td>1</td>\n",
              "      <td>NaN</td>\n",
              "      <td>NaN</td>\n",
              "      <td>NaN</td>\n",
              "      <td>NaN</td>\n",
              "      <td>NaN</td>\n",
              "    </tr>\n",
              "  </tbody>\n",
              "</table>\n",
              "<p>5 rows × 35 columns</p>\n",
              "</div>\n",
              "      <button class=\"colab-df-convert\" onclick=\"convertToInteractive('df-e0faa48c-b8df-4d69-bf81-dc280f0eaa5a')\"\n",
              "              title=\"Convert this dataframe to an interactive table.\"\n",
              "              style=\"display:none;\">\n",
              "        \n",
              "  <svg xmlns=\"http://www.w3.org/2000/svg\" height=\"24px\"viewBox=\"0 0 24 24\"\n",
              "       width=\"24px\">\n",
              "    <path d=\"M0 0h24v24H0V0z\" fill=\"none\"/>\n",
              "    <path d=\"M18.56 5.44l.94 2.06.94-2.06 2.06-.94-2.06-.94-.94-2.06-.94 2.06-2.06.94zm-11 1L8.5 8.5l.94-2.06 2.06-.94-2.06-.94L8.5 2.5l-.94 2.06-2.06.94zm10 10l.94 2.06.94-2.06 2.06-.94-2.06-.94-.94-2.06-.94 2.06-2.06.94z\"/><path d=\"M17.41 7.96l-1.37-1.37c-.4-.4-.92-.59-1.43-.59-.52 0-1.04.2-1.43.59L10.3 9.45l-7.72 7.72c-.78.78-.78 2.05 0 2.83L4 21.41c.39.39.9.59 1.41.59.51 0 1.02-.2 1.41-.59l7.78-7.78 2.81-2.81c.8-.78.8-2.07 0-2.86zM5.41 20L4 18.59l7.72-7.72 1.47 1.35L5.41 20z\"/>\n",
              "  </svg>\n",
              "      </button>\n",
              "      \n",
              "  <style>\n",
              "    .colab-df-container {\n",
              "      display:flex;\n",
              "      flex-wrap:wrap;\n",
              "      gap: 12px;\n",
              "    }\n",
              "\n",
              "    .colab-df-convert {\n",
              "      background-color: #E8F0FE;\n",
              "      border: none;\n",
              "      border-radius: 50%;\n",
              "      cursor: pointer;\n",
              "      display: none;\n",
              "      fill: #1967D2;\n",
              "      height: 32px;\n",
              "      padding: 0 0 0 0;\n",
              "      width: 32px;\n",
              "    }\n",
              "\n",
              "    .colab-df-convert:hover {\n",
              "      background-color: #E2EBFA;\n",
              "      box-shadow: 0px 1px 2px rgba(60, 64, 67, 0.3), 0px 1px 3px 1px rgba(60, 64, 67, 0.15);\n",
              "      fill: #174EA6;\n",
              "    }\n",
              "\n",
              "    [theme=dark] .colab-df-convert {\n",
              "      background-color: #3B4455;\n",
              "      fill: #D2E3FC;\n",
              "    }\n",
              "\n",
              "    [theme=dark] .colab-df-convert:hover {\n",
              "      background-color: #434B5C;\n",
              "      box-shadow: 0px 1px 3px 1px rgba(0, 0, 0, 0.15);\n",
              "      filter: drop-shadow(0px 1px 2px rgba(0, 0, 0, 0.3));\n",
              "      fill: #FFFFFF;\n",
              "    }\n",
              "  </style>\n",
              "\n",
              "      <script>\n",
              "        const buttonEl =\n",
              "          document.querySelector('#df-e0faa48c-b8df-4d69-bf81-dc280f0eaa5a button.colab-df-convert');\n",
              "        buttonEl.style.display =\n",
              "          google.colab.kernel.accessAllowed ? 'block' : 'none';\n",
              "\n",
              "        async function convertToInteractive(key) {\n",
              "          const element = document.querySelector('#df-e0faa48c-b8df-4d69-bf81-dc280f0eaa5a');\n",
              "          const dataTable =\n",
              "            await google.colab.kernel.invokeFunction('convertToInteractive',\n",
              "                                                     [key], {});\n",
              "          if (!dataTable) return;\n",
              "\n",
              "          const docLinkHtml = 'Like what you see? Visit the ' +\n",
              "            '<a target=\"_blank\" href=https://colab.research.google.com/notebooks/data_table.ipynb>data table notebook</a>'\n",
              "            + ' to learn more about interactive tables.';\n",
              "          element.innerHTML = '';\n",
              "          dataTable['output_type'] = 'display_data';\n",
              "          await google.colab.output.renderOutput(dataTable, element);\n",
              "          const docLink = document.createElement('div');\n",
              "          docLink.innerHTML = docLinkHtml;\n",
              "          element.appendChild(docLink);\n",
              "        }\n",
              "      </script>\n",
              "    </div>\n",
              "  </div>\n",
              "  "
            ]
          },
          "metadata": {},
          "execution_count": 11
        }
      ]
    },
    {
      "cell_type": "markdown",
      "source": [
        "## Reference\n",
        "1. Reference:https://pbpython.com/excel-file-combine.html"
      ],
      "metadata": {
        "id": "uR_lTmd9VY0L"
      }
    }
  ]
}