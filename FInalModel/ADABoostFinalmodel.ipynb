{
  "nbformat": 4,
  "nbformat_minor": 0,
  "metadata": {
    "colab": {
      "name": "ADABoostFinalmodel.ipynb",
      "provenance": [],
      "collapsed_sections": [],
      "machine_shape": "hm",
      "background_execution": "on",
      "include_colab_link": true
    },
    "kernelspec": {
      "name": "python3",
      "display_name": "Python 3"
    },
    "language_info": {
      "name": "python"
    }
  },
  "cells": [
    {
      "cell_type": "markdown",
      "metadata": {
        "id": "view-in-github",
        "colab_type": "text"
      },
      "source": [
        "<a href=\"https://colab.research.google.com/github/chetan7116desai/TEAM_A_data606/blob/main/FInalModel/ADABoostFinalmodel.ipynb\" target=\"_parent\"><img src=\"https://colab.research.google.com/assets/colab-badge.svg\" alt=\"Open In Colab\"/></a>"
      ]
    },
    {
      "cell_type": "code",
      "execution_count": null,
      "metadata": {
        "id": "fFhuCiM-w8Ag",
        "colab": {
          "base_uri": "https://localhost:8080/"
        },
        "outputId": "1ea6ce8d-03d3-4ed7-e0a1-c354bdab770b"
      },
      "outputs": [
        {
          "output_type": "stream",
          "name": "stdout",
          "text": [
            "Drive already mounted at /content/drive; to attempt to forcibly remount, call drive.mount(\"/content/drive\", force_remount=True).\n"
          ]
        }
      ],
      "source": [
        "# Connecting to shared drive\n",
        "from google.colab import drive\n",
        "drive.mount('/content/drive')"
      ]
    },
    {
      "cell_type": "code",
      "source": [
        "\n",
        "import numpy as np\n",
        "import pandas as pd\n",
        "import matplotlib.pyplot as plt\n",
        "import seaborn as sns\n",
        "import warnings\n",
        "warnings.filterwarnings(\"ignore\")"
      ],
      "metadata": {
        "id": "JNRwi4E7xCbA"
      },
      "execution_count": null,
      "outputs": []
    },
    {
      "cell_type": "markdown",
      "source": [
        "# Final Model"
      ],
      "metadata": {
        "id": "uhid0e_Dxdiu"
      }
    },
    {
      "cell_type": "code",
      "source": [
        "from sklearn.pipeline import Pipeline\n",
        "\n",
        "from sklearn.linear_model import LogisticRegression\n",
        "from sklearn.ensemble import  AdaBoostClassifier\n",
        "from sklearn.tree import DecisionTreeClassifier\n",
        "# Modelling - Classification metrics\n",
        "from sklearn import metrics\n",
        "from sklearn.compose import ColumnTransformer\n",
        "from sklearn.metrics import classification_report\n",
        "from sklearn.metrics import confusion_matrix, plot_confusion_matrix, accuracy_score\n",
        "from sklearn.metrics import roc_curve\n",
        "from sklearn.metrics import precision_score, recall_score\n",
        "from sklearn.metrics import plot_roc_curve, roc_auc_score\n",
        "# Vectorizing\n",
        "from sklearn.feature_extraction.text import TfidfVectorizer\n",
        "# Column Transformer\n",
        "from typing import Callable\n",
        "from sklearn.base import BaseEstimator, TransformerMixin\n",
        "from sklearn.preprocessing import StandardScaler, OneHotEncoder, FunctionTransformer\n",
        "from sklearn.pipeline import Pipeline\n",
        "import pickle\n",
        "from sklearn.linear_model import SGDClassifier\n",
        "import string\n",
        "import re\n",
        "import nltk\n",
        "nltk.download('stopwords')\n",
        "nltk.download('wordnet')"
      ],
      "metadata": {
        "id": "2df3SA5JyCPS",
        "colab": {
          "base_uri": "https://localhost:8080/"
        },
        "outputId": "ec103ce7-04c2-4985-ca96-a7040b5bf152"
      },
      "execution_count": null,
      "outputs": [
        {
          "output_type": "stream",
          "name": "stdout",
          "text": [
            "[nltk_data] Downloading package stopwords to /root/nltk_data...\n",
            "[nltk_data]   Package stopwords is already up-to-date!\n",
            "[nltk_data] Downloading package wordnet to /root/nltk_data...\n",
            "[nltk_data]   Package wordnet is already up-to-date!\n"
          ]
        },
        {
          "output_type": "execute_result",
          "data": {
            "text/plain": [
              "True"
            ]
          },
          "metadata": {},
          "execution_count": 3
        }
      ]
    },
    {
      "cell_type": "code",
      "source": [
        "custom_stopwords = nltk.corpus.stopwords.words('english')\n",
        "\n",
        "stopword_list = ['moderna', 'flu', 'mrna', 'vaccine', 'the', 'patient', 'pfizer', \n",
        "                 'biontech', 'nan', 'none', 'mg', 'medical', 'history', 'allergy', \n",
        "                 'year', 'old','uk','nkda','nka','known','reported','listed']"
      ],
      "metadata": {
        "id": "US-GG3WgloBo"
      },
      "execution_count": null,
      "outputs": []
    },
    {
      "cell_type": "code",
      "source": [
        "textTransformer_0 = Pipeline(steps=[\n",
        "    ('text_bow', TfidfVectorizer(lowercase=True,\\\n",
        "                                 token_pattern=r\"(?u)\\b\\w+\\b\",\\\n",
        "                                 stop_words=stopword_list,\n",
        "                                 ngram_range=(2, 2),max_features=5000))])"
      ],
      "metadata": {
        "id": "aiyxbvxJx3YS"
      },
      "execution_count": null,
      "outputs": []
    },
    {
      "cell_type": "code",
      "source": [
        "tfidfprocess = ColumnTransformer(transformers=[('text1', textTransformer_0, 'SYMPTOM_TEXT'),\n",
        "                                              ('text2', textTransformer_0, 'OTHER_MEDS'),\n",
        "                                              ('text3', textTransformer_0, 'CUR_ILL'),\n",
        "                                              ('text4', textTransformer_0, 'HISTORY'),\n",
        "                                              ('text5', textTransformer_0, 'ALLERGIES')\n",
        "],remainder='passthrough')"
      ],
      "metadata": {
        "id": "CaXZTu-_ljnD"
      },
      "execution_count": null,
      "outputs": []
    },
    {
      "cell_type": "markdown",
      "source": [
        "### covid ADA boost model"
      ],
      "metadata": {
        "id": "wusJ5B7gx5ME"
      }
    },
    {
      "cell_type": "code",
      "source": [
        "covid_clean =pd.read_csv(\"/content/drive/Shareddrives/Team A 606 Capstone Project/Dataset/covid_ml.csv*\")"
      ],
      "metadata": {
        "id": "3_UhRhYm-5Rr"
      },
      "execution_count": null,
      "outputs": []
    },
    {
      "cell_type": "code",
      "source": [
        "vaccine_data = pd.get_dummies(covid_clean.VAX_MANU)\n",
        "covid_clean = pd.merge(covid_clean, vaccine_data, left_index=True, right_index=True)\n"
      ],
      "metadata": {
        "id": "K0I8zSE6-5Rs"
      },
      "execution_count": null,
      "outputs": []
    },
    {
      "cell_type": "code",
      "source": [
        "covid_clean.OTHER_MEDS = covid_clean.OTHER_MEDS.replace(np.nan,'',regex=True)\n",
        "covid_clean.CUR_ILL = covid_clean.CUR_ILL.replace(np.nan,'',regex=True)\n",
        "covid_clean.HISTORY = covid_clean.HISTORY.replace(np.nan,'',regex=True)\n",
        "covid_clean.ALLERGIES = covid_clean.ALLERGIES.replace(np.nan,'',regex=True)"
      ],
      "metadata": {
        "id": "F1zfD1Iq-5Rt"
      },
      "execution_count": null,
      "outputs": []
    },
    {
      "cell_type": "code",
      "source": [
        "from sklearn.model_selection import train_test_split\n",
        "\n",
        "y=covid_clean.serious\n",
        "X=covid_clean.drop(['serious','SYMPTOM1','SYMPTOM2','SYMPTOM3','SYMPTOM4',\n",
        "                    'SYMPTOM5','VAX_MANU'], axis=1)\n",
        "X_train, X_test, y_train, y_test = train_test_split(X, y, test_size=.3, \n",
        "                                                    random_state=200, stratify=y)\n",
        "\n",
        "print(f'Training examples: {X_train.shape[0]:,}')\n",
        "print(f'Test examples: {X_test.shape[0]:,}')"
      ],
      "metadata": {
        "colab": {
          "base_uri": "https://localhost:8080/"
        },
        "outputId": "c0fabc3b-20a4-424c-b435-fb5b55ef586b",
        "id": "u-kfwNnM-5Ru"
      },
      "execution_count": null,
      "outputs": [
        {
          "output_type": "stream",
          "name": "stdout",
          "text": [
            "Training examples: 694,303\n",
            "Test examples: 297,559\n"
          ]
        }
      ]
    },
    {
      "cell_type": "code",
      "source": [
        "%%time\n",
        "covid_lg_pipe = Pipeline([\n",
        "    ('preproc', tfidfprocess),\n",
        "    ('ada', AdaBoostClassifier(DecisionTreeClassifier(),n_estimators=50))])\n",
        "\n",
        "covid_lg_pipe.fit(X_train, y_train)\n",
        "y_pred = covid_lg_pipe.predict(X_test)\n",
        "tn, fp, fn, tp = confusion_matrix(y_test, y_pred).ravel()\n",
        "# Print results\n",
        "print(f'Train score (Accuracy): {covid_lg_pipe.score(X_train, y_train):.3f}, Test score (Accuracy): {covid_lg_pipe.score(X_test, y_test):.3f}')\n",
        "print(f'Recall: {tp/(tp+fn):.3f}, F1 score (test): {tp/(tp+(fp+fn)/2):.3f}, Specificity: {tn/(tn+fp):.3f}, Precision: {tp/(tp+fp):.3f}')"
      ],
      "metadata": {
        "colab": {
          "base_uri": "https://localhost:8080/"
        },
        "outputId": "bef2d5ce-6cff-4601-fd47-b30e1708ee35",
        "id": "1kIOVtjr-5Ru"
      },
      "execution_count": null,
      "outputs": [
        {
          "output_type": "stream",
          "name": "stdout",
          "text": [
            "Train score (Accuracy): 0.988, Test score (Accuracy): 0.946\n",
            "Recall: 0.622, F1 score (test): 0.701, Specificity: 0.983, Precision: 0.803\n",
            "CPU times: user 4min 51s, sys: 304 ms, total: 4min 51s\n",
            "Wall time: 4min 50s\n"
          ]
        }
      ]
    },
    {
      "cell_type": "code",
      "source": [
        "plt.figure(figsize=(6,6))        \n",
        "\n",
        "# Confusion Matrix\n",
        "\n",
        "\n",
        "\n",
        "plot_confusion_matrix(covid_lg_pipe, \n",
        "                      X_test, y_test, \n",
        "                      cmap='RdPu', \n",
        "                      values_format='d',\n",
        "                      display_labels=['non-serious', 'serious']\n",
        "                     );\n",
        "plt.title('TVEC ADA Boost');"
      ],
      "metadata": {
        "colab": {
          "base_uri": "https://localhost:8080/",
          "height": 313
        },
        "outputId": "93a73f70-4e92-4cae-c25d-49931db8d00f",
        "id": "6Btzlnai-5Rv"
      },
      "execution_count": null,
      "outputs": [
        {
          "output_type": "display_data",
          "data": {
            "text/plain": [
              "<Figure size 432x432 with 0 Axes>"
            ]
          },
          "metadata": {}
        },
        {
          "output_type": "display_data",
          "data": {
            "text/plain": [
              "<Figure size 432x288 with 2 Axes>"
            ],
            "image/png": "[encoded data removed]"
          },
          "metadata": {
            "needs_background": "light"
          }
        }
      ]
    },
    {
      "cell_type": "code",
      "source": [
        "plot_roc_curve(covid_lg_pipe, X_test, y_test)\n",
        "\n",
        "# add worst case scenario line\n",
        "plt.plot([0,1], [0,1], label = \"baseline\", linestyle = \"--\")\n",
        "\n",
        "# add title\n",
        "plt.title('Receiver Operating Characteristic (ROC) Curve');"
      ],
      "metadata": {
        "colab": {
          "base_uri": "https://localhost:8080/",
          "height": 295
        },
        "outputId": "42b1ee26-51f3-4d3e-ae28-38e2b1e34cf5",
        "id": "Gsvl9Gfm-5Rw"
      },
      "execution_count": null,
      "outputs": [
        {
          "output_type": "display_data",
          "data": {
            "text/plain": [
              "<Figure size 432x288 with 1 Axes>"
            ],
            "image/png": "[encoded data removed]"
          },
          "metadata": {
            "needs_background": "light"
          }
        }
      ]
    },
    {
      "cell_type": "code",
      "source": [
        "with open(f'/content/drive/Shareddrives/Team A 606 Capstone Project/Code/covid_ada_new_model.sav', 'wb') as f:\n",
        "    pickle.dump(covid_lg_pipe, f)"
      ],
      "metadata": {
        "id": "dcXZaARf-5Rw"
      },
      "execution_count": null,
      "outputs": []
    },
    {
      "cell_type": "markdown",
      "source": [
        "### Flu model"
      ],
      "metadata": {
        "id": "vmCT1vyt0GdB"
      }
    },
    {
      "cell_type": "code",
      "source": [
        "flu_clean =pd.read_csv(\"/content/drive/Shareddrives/Team A 606 Capstone Project/Dataset/flu_ml.csv\")"
      ],
      "metadata": {
        "id": "9GfAbLJ2wBAK"
      },
      "execution_count": null,
      "outputs": []
    },
    {
      "cell_type": "code",
      "source": [
        "vaccine_data = pd.get_dummies(flu_clean.VAX_MANU)\n",
        "flu_clean = pd.merge(flu_clean, vaccine_data, left_index=True, right_index=True)\n",
        "flu_clean.rename(columns = {'PARKE-DAVIS' : 'PARKE','CONNAUGHT LABORATORIES' : 'CONNAUGHT',\n",
        "             'LEDERLE LABORATORIES' : 'LEDERLE' ,'PFIZER\\WYETH' : 'PFIZER',\n",
        "              'MEDEVA PHARMA, LTD.' : 'MEDEVA','PARKDALE PHARMACEUTICALS' : 'PARKDALE',\n",
        "               'SANOFI PASTEUR' : 'SANOFI' ,'MEDIMMUNE VACCINES, INC.' : 'MEDIMMUNE',\n",
        "                'EVANS VACCINES' :'EVANS' ,'GLAXOSMITHKLINE BIOLOGICALS' : 'GLAXOSMITHKLINE', \n",
        "                 'NOVARTIS VACCINES AND DIAGNOSTICS' : 'NOVARTIS',\n",
        "                'CSL LIMITED' : 'CSL','PROTEIN SCIENCES CORPORATION' : 'PROTEIN',\n",
        "                 'SEQIRUS, INC.' : 'SEQIRUS', 'AVENTIS PASTEUR' :'AVENTIS' }, inplace = True)"
      ],
      "metadata": {
        "id": "S6kdkThuwBAL"
      },
      "execution_count": null,
      "outputs": []
    },
    {
      "cell_type": "code",
      "source": [
        "\n",
        "flu_clean.OTHER_MEDS = flu_clean.OTHER_MEDS.replace(np.nan,'',regex=True)\n",
        "flu_clean.CUR_ILL = flu_clean.CUR_ILL.replace(np.nan,'',regex=True)\n",
        "flu_clean.HISTORY = flu_clean.HISTORY.replace(np.nan,'',regex=True)\n",
        "flu_clean.ALLERGIES = flu_clean.ALLERGIES.replace(np.nan,'',regex=True)"
      ],
      "metadata": {
        "id": "YoKMrZqYwBAL"
      },
      "execution_count": null,
      "outputs": []
    },
    {
      "cell_type": "code",
      "source": [
        "from sklearn.model_selection import train_test_split\n",
        "\n",
        "y=flu_clean.serious\n",
        "X=flu_clean.drop(['serious','SYMPTOM1','SYMPTOM2','SYMPTOM3','SYMPTOM4',\n",
        "                    'SYMPTOM5','VAX_MANU'], axis=1)\n",
        "X_train, X_test, y_train, y_test = train_test_split(X, y, test_size=.3, \n",
        "                                                    random_state=200, stratify=y)\n",
        "\n",
        "print(f'Training examples: {X_train.shape[0]:,}')\n",
        "print(f'Test examples: {X_test.shape[0]:,}')"
      ],
      "metadata": {
        "colab": {
          "base_uri": "https://localhost:8080/"
        },
        "outputId": "a5a8919a-90bd-4ba8-b152-e981a3295811",
        "id": "BazhPfclwBAL"
      },
      "execution_count": null,
      "outputs": [
        {
          "output_type": "stream",
          "name": "stdout",
          "text": [
            "Training examples: 123,561\n",
            "Test examples: 52,956\n"
          ]
        }
      ]
    },
    {
      "cell_type": "code",
      "source": [
        "%%time\n",
        "flu_ada_pipe = Pipeline([\n",
        "    ('preproc', tfidfprocess),\n",
        "    ('ada', AdaBoostClassifier(DecisionTreeClassifier()))])\n",
        "\n",
        "flu_ada_pipe.fit(X_train, y_train)\n",
        "y_pred = flu_ada_pipe.predict(X_test)\n",
        "tn, fp, fn, tp = confusion_matrix(y_test, y_pred).ravel()\n",
        "# Print results\n",
        "print(f'Train score (Accuracy): {flu_ada_pipe.score(X_train, y_train):.3f}, Test score (Accuracy): {flu_ada_pipe.score(X_test, y_test):.3f}')\n",
        "print(f'Recall: {tp/(tp+fn):.3f}, F1 score (test): {tp/(tp+(fp+fn)/2):.3f}, Specificity: {tn/(tn+fp):.3f}, Precision: {tp/(tp+fp):.3f}')"
      ],
      "metadata": {
        "colab": {
          "base_uri": "https://localhost:8080/"
        },
        "outputId": "5709b1bf-25d1-4b6a-e396-6aba62fe359b",
        "id": "s3UDYarxwBAM"
      },
      "execution_count": null,
      "outputs": [
        {
          "output_type": "stream",
          "name": "stdout",
          "text": [
            "Train score (Accuracy): 0.986, Test score (Accuracy): 0.908\n",
            "Recall: 0.755, F1 score (test): 0.769, Specificity: 0.947, Precision: 0.783\n",
            "CPU times: user 17min 21s, sys: 1.02 s, total: 17min 22s\n",
            "Wall time: 17min 17s\n"
          ]
        }
      ]
    },
    {
      "cell_type": "code",
      "source": [
        "plt.figure(figsize=(6,6))        \n",
        "\n",
        "# Confusion Matrix\n",
        "\n",
        "\n",
        "\n",
        "plot_confusion_matrix(flu_ada_pipe, \n",
        "                      X_test, y_test, \n",
        "                      cmap='RdPu', \n",
        "                      values_format='d',\n",
        "                      display_labels=['non-serious', 'serious']\n",
        "                     );\n",
        "plt.title('TVEC ADA Boost');"
      ],
      "metadata": {
        "colab": {
          "base_uri": "https://localhost:8080/",
          "height": 313
        },
        "outputId": "3282b0c7-963b-4ccc-a8f3-48b27027d3dd",
        "id": "_qSQkJvEwBAM"
      },
      "execution_count": null,
      "outputs": [
        {
          "output_type": "display_data",
          "data": {
            "text/plain": [
              "<Figure size 432x432 with 0 Axes>"
            ]
          },
          "metadata": {}
        },
        {
          "output_type": "display_data",
          "data": {
            "text/plain": [
              "<Figure size 432x288 with 2 Axes>"
            ],
            "image/png": "[encoded data removed]"
          },
          "metadata": {
            "needs_background": "light"
          }
        }
      ]
    },
    {
      "cell_type": "code",
      "source": [
        "plot_roc_curve(flu_ada_pipe, X_test, y_test)\n",
        "\n",
        "# add worst case scenario line\n",
        "plt.plot([0,1], [0,1], label = \"baseline\", linestyle = \"--\")\n",
        "\n",
        "# add title\n",
        "plt.title('Receiver Operating Characteristic (ROC) Curve');"
      ],
      "metadata": {
        "colab": {
          "base_uri": "https://localhost:8080/",
          "height": 295
        },
        "outputId": "eec183bb-81a6-402e-c35d-043efc66e0a2",
        "id": "4SEN5edYwBAM"
      },
      "execution_count": null,
      "outputs": [
        {
          "output_type": "display_data",
          "data": {
            "text/plain": [
              "<Figure size 432x288 with 1 Axes>"
            ],
            "image/png": "[encoded data removed]"
          },
          "metadata": {
            "needs_background": "light"
          }
        }
      ]
    },
    {
      "cell_type": "code",
      "source": [
        "with open(f'/content/drive/Shareddrives/Team A 606 Capstone Project/Code/flu_new_ada__model.sav', 'wb') as f:\n",
        "    pickle.dump(flu_ada_pipe, f)"
      ],
      "metadata": {
        "id": "Hv3w0R2dwBAN"
      },
      "execution_count": null,
      "outputs": []
    },
    {
      "cell_type": "markdown",
      "source": [
        "### Hep model"
      ],
      "metadata": {
        "id": "WMentq7p0ZY0"
      }
    },
    {
      "cell_type": "code",
      "source": [
        "hep_clean =pd.read_csv(\"/content/drive/Shareddrives/Team A 606 Capstone Project/Dataset/hep_ml.csv\")"
      ],
      "metadata": {
        "id": "p6q1jxKG2toF"
      },
      "execution_count": null,
      "outputs": []
    },
    {
      "cell_type": "code",
      "source": [
        "vaccine_data = pd.get_dummies(hep_clean.VAX_MANU)\n",
        "hep_clean = pd.merge(hep_clean, vaccine_data, left_index=True, right_index=True)\n",
        "hep_clean.rename(columns = {'GLAXOSMITHKLINE BIOLOGICALS':'GLAXOSMITHKLINE','MERCK & CO. INC.': 'MERCK',\n",
        "                              'DYNAVAX TECHNOLOGIES CORPORATION' : 'DYNAVAX','SANOFI PASTEUR' : 'SANOFI','SMITHKLINE BEECHAM':'SMITHKLINE' }, inplace = True)\n"
      ],
      "metadata": {
        "id": "rpMSiKfNufVh"
      },
      "execution_count": null,
      "outputs": []
    },
    {
      "cell_type": "code",
      "source": [
        "hep_clean.OTHER_MEDS = hep_clean.OTHER_MEDS.replace(np.nan,'',regex=True)\n",
        "hep_clean.CUR_ILL = hep_clean.CUR_ILL.replace(np.nan,'',regex=True)\n",
        "hep_clean.HISTORY = hep_clean.HISTORY.replace(np.nan,'',regex=True)\n",
        "hep_clean.ALLERGIES = hep_clean.ALLERGIES.replace(np.nan,'',regex=True)"
      ],
      "metadata": {
        "id": "b0rdwO-svOSF"
      },
      "execution_count": null,
      "outputs": []
    },
    {
      "cell_type": "code",
      "source": [
        "from sklearn.model_selection import train_test_split\n",
        "\n",
        "y=hep_clean.serious\n",
        "X=hep_clean.drop(['serious','SYMPTOM1','SYMPTOM2','SYMPTOM3','SYMPTOM4',\n",
        "                    'SYMPTOM5','VAX_MANU'], axis=1)\n",
        "X_train, X_test, y_train, y_test = train_test_split(X, y, test_size=.3, \n",
        "                                                    random_state=200, stratify=y)\n",
        "\n",
        "print(f'Training examples: {X_train.shape[0]:,}')\n",
        "print(f'Test examples: {X_test.shape[0]:,}')"
      ],
      "metadata": {
        "colab": {
          "base_uri": "https://localhost:8080/"
        },
        "outputId": "029ba2a0-b975-45cd-b615-87f09bb42d71",
        "id": "K-d5HbbhvOSG"
      },
      "execution_count": null,
      "outputs": [
        {
          "output_type": "stream",
          "name": "stdout",
          "text": [
            "Training examples: 64,673\n",
            "Test examples: 27,717\n"
          ]
        }
      ]
    },
    {
      "cell_type": "code",
      "source": [
        "%%time\n",
        "hp_ada_pipe = Pipeline([\n",
        "    ('preproc', tfidfprocess),\n",
        "    ('ada', AdaBoostClassifier(DecisionTreeClassifier()))])\n",
        "\n",
        "hp_ada_pipe.fit(X_train, y_train)\n",
        "y_pred = hp_ada_pipe.predict(X_test)\n",
        "tn, fp, fn, tp = confusion_matrix(y_test, y_pred).ravel()\n",
        "# Print results\n",
        "print(f'Train score (Accuracy): {hp_ada_pipe.score(X_train, y_train):.3f}, Test score (Accuracy): {hp_ada_pipe.score(X_test, y_test):.3f}')\n",
        "print(f'Recall: {tp/(tp+fn):.3f}, F1 score (test): {tp/(tp+(fp+fn)/2):.3f}, Specificity: {tn/(tn+fp):.3f}, Precision: {tp/(tp+fp):.3f}')"
      ],
      "metadata": {
        "colab": {
          "base_uri": "https://localhost:8080/"
        },
        "outputId": "1e35ca21-9f39-46f2-95d2-e3bf87e5981c",
        "id": "CtXWR-ydvOSH"
      },
      "execution_count": null,
      "outputs": [
        {
          "output_type": "stream",
          "name": "stdout",
          "text": [
            "Train score (Accuracy): 0.982, Test score (Accuracy): 0.870\n",
            "Recall: 0.820, F1 score (test): 0.801, Specificity: 0.893, Precision: 0.782\n",
            "CPU times: user 5min 37s, sys: 452 ms, total: 5min 37s\n",
            "Wall time: 5min 36s\n"
          ]
        }
      ]
    },
    {
      "cell_type": "code",
      "source": [
        "plt.figure(figsize=(6,6))        \n",
        "\n",
        "# Confusion Matrix\n",
        "\n",
        "\n",
        "\n",
        "plot_confusion_matrix(hp_ada_pipe, \n",
        "                      X_test, y_test, \n",
        "                      cmap='RdPu', \n",
        "                      values_format='d',\n",
        "                      display_labels=['non-serious', 'serious']\n",
        "                     );\n",
        "plt.title('TVEC ADA Boost');"
      ],
      "metadata": {
        "colab": {
          "base_uri": "https://localhost:8080/",
          "height": 313
        },
        "outputId": "43b77074-b3a6-432c-f22f-964c64fcbb39",
        "id": "pXPawFEOvOSH"
      },
      "execution_count": null,
      "outputs": [
        {
          "output_type": "display_data",
          "data": {
            "text/plain": [
              "<Figure size 432x432 with 0 Axes>"
            ]
          },
          "metadata": {}
        },
        {
          "output_type": "display_data",
          "data": {
            "text/plain": [
              "<Figure size 432x288 with 2 Axes>"
            ],
            "image/png": "[encoded data removed]"
          },
          "metadata": {
            "needs_background": "light"
          }
        }
      ]
    },
    {
      "cell_type": "code",
      "source": [
        "plot_roc_curve(hp_ada_pipe, X_test, y_test)\n",
        "\n",
        "# add worst case scenario line\n",
        "plt.plot([0,1], [0,1], label = \"baseline\", linestyle = \"--\")\n",
        "\n",
        "# add title\n",
        "plt.title('Receiver Operating Characteristic (ROC) Curve');"
      ],
      "metadata": {
        "colab": {
          "base_uri": "https://localhost:8080/",
          "height": 295
        },
        "outputId": "f0b464a3-2d87-4cbe-d4ae-c920f0d407da",
        "id": "WipfJevdvOSI"
      },
      "execution_count": null,
      "outputs": [
        {
          "output_type": "display_data",
          "data": {
            "text/plain": [
              "<Figure size 432x288 with 1 Axes>"
            ],
            "image/png": "[encoded data removed]"
          },
          "metadata": {
            "needs_background": "light"
          }
        }
      ]
    },
    {
      "cell_type": "code",
      "source": [
        "with open(f'/content/drive/Shareddrives/Team A 606 Capstone Project/Code/hp_new_ada_model.sav', 'wb') as f:\n",
        "    pickle.dump(hp_ada_pipe, f)"
      ],
      "metadata": {
        "id": "Fven02GTvOSI"
      },
      "execution_count": null,
      "outputs": []
    },
    {
      "cell_type": "markdown",
      "source": [
        "### Varzos model"
      ],
      "metadata": {
        "id": "jJABXra00rn5"
      }
    },
    {
      "cell_type": "code",
      "source": [
        "varzos_clean =pd.read_csv(\"/content/drive/Shareddrives/Team A 606 Capstone Project/Dataset/var_ml.csv\")"
      ],
      "metadata": {
        "id": "sdFsI0JG7ihD"
      },
      "execution_count": null,
      "outputs": []
    },
    {
      "cell_type": "code",
      "source": [
        "vaccine_data = pd.get_dummies(varzos_clean.VAX_MANU)\n",
        "varzos_clean = pd.merge(varzos_clean, vaccine_data, left_index=True, right_index=True)\n",
        "varzos_clean.rename(columns = {'GLAXOSMITHKLINE BIOLOGICALS':'GLAXOSMITHKLINE','MERCK & CO. INC.': 'MERCK'}, inplace = True)\n"
      ],
      "metadata": {
        "id": "_slwfyl8ety6"
      },
      "execution_count": null,
      "outputs": []
    },
    {
      "cell_type": "code",
      "source": [
        "varzos_clean.rename(columns = {'GLAXOSMITHKLINE BIOLOGICALS':'GLAXOSMITHKLINE','MERCK & CO. INC.': 'MERCK'}, inplace = True)\n"
      ],
      "metadata": {
        "id": "WDt2VUUVhzi1"
      },
      "execution_count": null,
      "outputs": []
    },
    {
      "cell_type": "code",
      "source": [
        "varzos_clean.OTHER_MEDS = varzos_clean.OTHER_MEDS.replace(np.nan,'',regex=True)\n",
        "varzos_clean.CUR_ILL = varzos_clean.CUR_ILL.replace(np.nan,'',regex=True)\n",
        "varzos_clean.HISTORY = varzos_clean.HISTORY.replace(np.nan,'',regex=True)\n",
        "varzos_clean.ALLERGIES = varzos_clean.ALLERGIES.replace(np.nan,'',regex=True)"
      ],
      "metadata": {
        "id": "-p3tLS74q2z0"
      },
      "execution_count": null,
      "outputs": []
    },
    {
      "cell_type": "code",
      "source": [
        "from sklearn.model_selection import train_test_split\n",
        "\n",
        "y=varzos_clean.serious\n",
        "X=varzos_clean.drop(['serious','SYMPTOM1','SYMPTOM2','SYMPTOM3','SYMPTOM4',\n",
        "                    'SYMPTOM5','VAX_MANU'], axis=1)\n",
        "X_train, X_test, y_train, y_test = train_test_split(X, y, test_size=.3, \n",
        "                                                    random_state=200, stratify=y)\n",
        "\n",
        "print(f'Training examples: {X_train.shape[0]:,}')\n",
        "print(f'Test examples: {X_test.shape[0]:,}')"
      ],
      "metadata": {
        "id": "sPy1-ZGO0tMK",
        "colab": {
          "base_uri": "https://localhost:8080/"
        },
        "outputId": "08784466-d52d-455a-dc20-e7e8b1e79c38"
      },
      "execution_count": null,
      "outputs": [
        {
          "output_type": "stream",
          "name": "stdout",
          "text": [
            "Training examples: 52,269\n",
            "Test examples: 22,401\n"
          ]
        }
      ]
    },
    {
      "cell_type": "code",
      "source": [
        "%%time\n",
        "var_ada_pipe = Pipeline([\n",
        "    ('preproc', tfidfprocess),\n",
        "    ('ada', AdaBoostClassifier(DecisionTreeClassifier()))])\n",
        "\n",
        "var_ada_pipe.fit(X_train, y_train)\n",
        "y_pred = var_ada_pipe.predict(X_test)\n",
        "tn, fp, fn, tp = confusion_matrix(y_test, y_pred).ravel()\n",
        "# Print results\n",
        "print(f'Train score (Accuracy): {var_ada_pipe.score(X_train, y_train):.3f}, Test score (Accuracy): {var_ada_pipe.score(X_test, y_test):.3f}')\n",
        "print(f'Recall: {tp/(tp+fn):.3f}, F1 score (test): {tp/(tp+(fp+fn)/2):.3f}, Specificity: {tn/(tn+fp):.3f}, Precision: {tp/(tp+fp):.3f}')"
      ],
      "metadata": {
        "id": "2j4CrE7f0tMK",
        "colab": {
          "base_uri": "https://localhost:8080/"
        },
        "outputId": "37272b37-dbc2-4a20-8e01-ceaa8025abe6"
      },
      "execution_count": null,
      "outputs": [
        {
          "output_type": "stream",
          "name": "stdout",
          "text": [
            "Train score (Accuracy): 0.988, Test score (Accuracy): 0.946\n",
            "Recall: 0.636, F1 score (test): 0.705, Specificity: 0.981, Precision: 0.791\n",
            "CPU times: user 4min 34s, sys: 316 ms, total: 4min 34s\n",
            "Wall time: 4min 33s\n"
          ]
        }
      ]
    },
    {
      "cell_type": "code",
      "source": [
        "plt.figure(figsize=(6,6))        \n",
        "\n",
        "# Confusion Matrix\n",
        "\n",
        "\n",
        "\n",
        "plot_confusion_matrix(var_ada_pipe, \n",
        "                      X_test, y_test, \n",
        "                      cmap='RdPu', \n",
        "                      values_format='d',\n",
        "                      display_labels=['non-serious', 'serious']\n",
        "                     );\n",
        "plt.title('TVEC Ada Boost');"
      ],
      "metadata": {
        "id": "6x4eEk4L0tMK",
        "colab": {
          "base_uri": "https://localhost:8080/",
          "height": 313
        },
        "outputId": "dab17f1a-e49e-458a-d2f7-7aa456fb3473"
      },
      "execution_count": null,
      "outputs": [
        {
          "output_type": "display_data",
          "data": {
            "text/plain": [
              "<Figure size 432x432 with 0 Axes>"
            ]
          },
          "metadata": {}
        },
        {
          "output_type": "display_data",
          "data": {
            "text/plain": [
              "<Figure size 432x288 with 2 Axes>"
            ],
            "image/png": "[encoded data removed]"
          },
          "metadata": {
            "needs_background": "light"
          }
        }
      ]
    },
    {
      "cell_type": "code",
      "source": [
        "plot_roc_curve(var_ada_pipe, X_test, y_test)\n",
        "\n",
        "# add worst case scenario line\n",
        "plt.plot([0,1], [0,1], label = \"baseline\", linestyle = \"--\")\n",
        "\n",
        "# add title\n",
        "plt.title('Receiver Operating Characteristic (ROC) Curve');"
      ],
      "metadata": {
        "id": "XWYBjefF0tML",
        "colab": {
          "base_uri": "https://localhost:8080/",
          "height": 295
        },
        "outputId": "8c586833-6c56-4db4-a639-141af4f0528d"
      },
      "execution_count": null,
      "outputs": [
        {
          "output_type": "display_data",
          "data": {
            "text/plain": [
              "<Figure size 432x288 with 1 Axes>"
            ],
            "image/png": "[encoded data removed]"
          },
          "metadata": {
            "needs_background": "light"
          }
        }
      ]
    },
    {
      "cell_type": "code",
      "source": [
        "with open(f'/content/drive/Shareddrives/Team A 606 Capstone Project/Code/var_new_ada_model.sav', 'wb') as f:\n",
        "    pickle.dump(var_ada_pipe, f)"
      ],
      "metadata": {
        "id": "QjxV0jporR1c"
      },
      "execution_count": null,
      "outputs": []
    },
    {
      "cell_type": "code",
      "source": [
        ""
      ],
      "metadata": {
        "id": "D0ulzksgGUa1"
      },
      "execution_count": null,
      "outputs": []
    }
  ]
}